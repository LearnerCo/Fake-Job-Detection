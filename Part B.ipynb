{
 "cells": [
  {
   "cell_type": "markdown",
   "metadata": {},
   "source": [
    "Data Preprocessing "
   ]
  },
  {
   "cell_type": "code",
   "execution_count": null,
   "metadata": {},
   "outputs": [],
   "source": [
    "# %pip install nltk\n",
    "# %pip install chardet\n",
    "# %pip install ftfy\n",
    "# %pip install pyspellchecker \n",
    "# %pip install textblob\n",
    "# %pip install symspellpy\n",
    "#%pip install langdetect deep-translator\n",
    "#%pip install language-tool-python\n",
    "#%pip install grammarly-api\n",
    "#%pip install language-check\n",
    "#%pip install emoji\n",
    "#%pip install spacy\n",
    "#!python -m spacy download en_core_web_sm\n",
    "#%pip install urlextract\n",
    "#%pip install PyDictionary\n",
    "#%pip install contractions\n",
    "#%pip install imblearn\n",
    "#%pip install --upgrade language_tool_python\n",
    "%pip install pandas numpy seaborn matplotlib tensorflow scikeras\n",
    "%pip install scikit-learn==1.3.1\n",
    "%pip install tensorflow==2.14.0\n",
    "%pip install scikeras==0.12.0\n",
    "%pip install scikit-learn==1.4.1"
   ]
  },
  {
   "cell_type": "code",
   "execution_count": null,
   "metadata": {},
   "outputs": [],
   "source": [
    "import nltk\n",
    "from nltk.tokenize import sent_tokenize\n",
    "from nltk.corpus import wordnet\n",
    "from nltk.corpus import words\n",
    "from PyDictionary import PyDictionary\n",
    "\n",
    "from spellchecker import SpellChecker\n",
    "\n",
    "from textblob import TextBlob\n",
    "\n",
    "from symspellpy import SymSpell, Verbosity\n",
    "\n",
    "import pandas as pd\n",
    "from langdetect import detect, DetectorFactory, LangDetectException\n",
    "from collections import Counter\n",
    "\n",
    "import language_tool_python\n",
    "from concurrent.futures import ThreadPoolExecutor\n",
    "\n",
    "import spacy\n",
    "\n",
    "import re\n",
    "import emoji\n",
    "from urlextract import URLExtract\n",
    "\n",
    "import contractions\n",
    "from sklearn.feature_extraction.text import TfidfVectorizer\n",
    "from imblearn.over_sampling import SMOTE\n",
    "from sklearn.model_selection import train_test_split\n",
    "\n",
    "from sklearn.svm import SVC\n",
    "\n",
    "import numpy as np\n",
    "import matplotlib.pyplot as plt\n",
    "import seaborn as sns\n",
    "import tensorflow as tf\n",
    "\n",
    "from sklearn.ensemble import RandomForestClassifier, AdaBoostClassifier\n",
    "from sklearn.metrics import accuracy_score, classification_report, confusion_matrix, roc_curve, roc_auc_score\n",
    "from sklearn.model_selection import RandomizedSearchCV, GridSearchCV\n",
    "\n",
    "from tensorflow.keras.models import Sequential\n",
    "from tensorflow.keras.layers import Dense, LSTM, Bidirectional, Dropout, Input\n",
    "\n",
    "from scikeras.wrappers import KerasClassifier\n",
    "from tensorflow.keras.layers import Conv1D, MaxPooling1D, Flatten\n",
    "\n",
    "from joblib import parallel_backend\n",
    "\n",
    "from sklearn.metrics import auc, RocCurveDisplay\n",
    "from sklearn.preprocessing import label_binarize"
   ]
  },
  {
   "cell_type": "code",
   "execution_count": null,
   "metadata": {},
   "outputs": [],
   "source": [
    "nltk.download('wordnet')\n",
    "nltk.download('omw-1.4')\n",
    "nltk.download(\"words\")"
   ]
  },
  {
   "cell_type": "markdown",
   "metadata": {},
   "source": [
    "Importing File "
   ]
  },
  {
   "cell_type": "code",
   "execution_count": null,
   "metadata": {},
   "outputs": [
    {
     "data": {
      "text/html": [
       "<div>\n",
       "<style scoped>\n",
       "    .dataframe tbody tr th:only-of-type {\n",
       "        vertical-align: middle;\n",
       "    }\n",
       "\n",
       "    .dataframe tbody tr th {\n",
       "        vertical-align: top;\n",
       "    }\n",
       "\n",
       "    .dataframe thead th {\n",
       "        text-align: right;\n",
       "    }\n",
       "</style>\n",
       "<table border=\"1\" class=\"dataframe\">\n",
       "  <thead>\n",
       "    <tr style=\"text-align: right;\">\n",
       "      <th></th>\n",
       "      <th>job_id</th>\n",
       "      <th>title</th>\n",
       "      <th>location</th>\n",
       "      <th>department</th>\n",
       "      <th>salary_range</th>\n",
       "      <th>company_profile</th>\n",
       "      <th>description</th>\n",
       "      <th>requirements</th>\n",
       "      <th>benefits</th>\n",
       "      <th>telecommuting</th>\n",
       "      <th>has_company_logo</th>\n",
       "      <th>has_questions</th>\n",
       "      <th>employment_type</th>\n",
       "      <th>required_experience</th>\n",
       "      <th>required_education</th>\n",
       "      <th>industry</th>\n",
       "      <th>function</th>\n",
       "      <th>fraudulent</th>\n",
       "    </tr>\n",
       "  </thead>\n",
       "  <tbody>\n",
       "    <tr>\n",
       "      <th>0</th>\n",
       "      <td>1</td>\n",
       "      <td>Marketing Intern</td>\n",
       "      <td>US, NY, New York</td>\n",
       "      <td>Marketing</td>\n",
       "      <td>NaN</td>\n",
       "      <td>We're Food52, and we've created a groundbreaki...</td>\n",
       "      <td>Food52, a fast-growing, James Beard Award-winn...</td>\n",
       "      <td>Experience with content management systems a m...</td>\n",
       "      <td>NaN</td>\n",
       "      <td>0</td>\n",
       "      <td>1</td>\n",
       "      <td>0</td>\n",
       "      <td>Other</td>\n",
       "      <td>Internship</td>\n",
       "      <td>NaN</td>\n",
       "      <td>NaN</td>\n",
       "      <td>Marketing</td>\n",
       "      <td>0</td>\n",
       "    </tr>\n",
       "    <tr>\n",
       "      <th>1</th>\n",
       "      <td>2</td>\n",
       "      <td>Customer Service - Cloud Video Production</td>\n",
       "      <td>NZ, , Auckland</td>\n",
       "      <td>Success</td>\n",
       "      <td>NaN</td>\n",
       "      <td>90 Seconds, the worlds Cloud Video Production ...</td>\n",
       "      <td>Organised - Focused - Vibrant - Awesome!Do you...</td>\n",
       "      <td>What we expect from you:Your key responsibilit...</td>\n",
       "      <td>What you will get from usThrough being part of...</td>\n",
       "      <td>0</td>\n",
       "      <td>1</td>\n",
       "      <td>0</td>\n",
       "      <td>Full-time</td>\n",
       "      <td>Not Applicable</td>\n",
       "      <td>NaN</td>\n",
       "      <td>Marketing and Advertising</td>\n",
       "      <td>Customer Service</td>\n",
       "      <td>0</td>\n",
       "    </tr>\n",
       "    <tr>\n",
       "      <th>2</th>\n",
       "      <td>3</td>\n",
       "      <td>Commissioning Machinery Assistant (CMA)</td>\n",
       "      <td>US, IA, Wever</td>\n",
       "      <td>NaN</td>\n",
       "      <td>NaN</td>\n",
       "      <td>Valor Services provides Workforce Solutions th...</td>\n",
       "      <td>Our client, located in Houston, is actively se...</td>\n",
       "      <td>Implement pre-commissioning and commissioning ...</td>\n",
       "      <td>NaN</td>\n",
       "      <td>0</td>\n",
       "      <td>1</td>\n",
       "      <td>0</td>\n",
       "      <td>NaN</td>\n",
       "      <td>NaN</td>\n",
       "      <td>NaN</td>\n",
       "      <td>NaN</td>\n",
       "      <td>NaN</td>\n",
       "      <td>0</td>\n",
       "    </tr>\n",
       "    <tr>\n",
       "      <th>3</th>\n",
       "      <td>4</td>\n",
       "      <td>Account Executive - Washington DC</td>\n",
       "      <td>US, DC, Washington</td>\n",
       "      <td>Sales</td>\n",
       "      <td>NaN</td>\n",
       "      <td>Our passion for improving quality of life thro...</td>\n",
       "      <td>THE COMPANY: ESRI – Environmental Systems Rese...</td>\n",
       "      <td>EDUCATION: Bachelor’s or Master’s in GIS, busi...</td>\n",
       "      <td>Our culture is anything but corporate—we have ...</td>\n",
       "      <td>0</td>\n",
       "      <td>1</td>\n",
       "      <td>0</td>\n",
       "      <td>Full-time</td>\n",
       "      <td>Mid-Senior level</td>\n",
       "      <td>Bachelor's Degree</td>\n",
       "      <td>Computer Software</td>\n",
       "      <td>Sales</td>\n",
       "      <td>0</td>\n",
       "    </tr>\n",
       "    <tr>\n",
       "      <th>4</th>\n",
       "      <td>5</td>\n",
       "      <td>Bill Review Manager</td>\n",
       "      <td>US, FL, Fort Worth</td>\n",
       "      <td>NaN</td>\n",
       "      <td>NaN</td>\n",
       "      <td>SpotSource Solutions LLC is a Global Human Cap...</td>\n",
       "      <td>JOB TITLE: Itemization Review ManagerLOCATION:...</td>\n",
       "      <td>QUALIFICATIONS:RN license in the State of Texa...</td>\n",
       "      <td>Full Benefits Offered</td>\n",
       "      <td>0</td>\n",
       "      <td>1</td>\n",
       "      <td>1</td>\n",
       "      <td>Full-time</td>\n",
       "      <td>Mid-Senior level</td>\n",
       "      <td>Bachelor's Degree</td>\n",
       "      <td>Hospital &amp; Health Care</td>\n",
       "      <td>Health Care Provider</td>\n",
       "      <td>0</td>\n",
       "    </tr>\n",
       "  </tbody>\n",
       "</table>\n",
       "</div>"
      ],
      "text/plain": [
       "   job_id                                      title            location  \\\n",
       "0       1                           Marketing Intern    US, NY, New York   \n",
       "1       2  Customer Service - Cloud Video Production      NZ, , Auckland   \n",
       "2       3    Commissioning Machinery Assistant (CMA)       US, IA, Wever   \n",
       "3       4          Account Executive - Washington DC  US, DC, Washington   \n",
       "4       5                        Bill Review Manager  US, FL, Fort Worth   \n",
       "\n",
       "  department salary_range                                    company_profile  \\\n",
       "0  Marketing          NaN  We're Food52, and we've created a groundbreaki...   \n",
       "1    Success          NaN  90 Seconds, the worlds Cloud Video Production ...   \n",
       "2        NaN          NaN  Valor Services provides Workforce Solutions th...   \n",
       "3      Sales          NaN  Our passion for improving quality of life thro...   \n",
       "4        NaN          NaN  SpotSource Solutions LLC is a Global Human Cap...   \n",
       "\n",
       "                                         description  \\\n",
       "0  Food52, a fast-growing, James Beard Award-winn...   \n",
       "1  Organised - Focused - Vibrant - Awesome!Do you...   \n",
       "2  Our client, located in Houston, is actively se...   \n",
       "3  THE COMPANY: ESRI – Environmental Systems Rese...   \n",
       "4  JOB TITLE: Itemization Review ManagerLOCATION:...   \n",
       "\n",
       "                                        requirements  \\\n",
       "0  Experience with content management systems a m...   \n",
       "1  What we expect from you:Your key responsibilit...   \n",
       "2  Implement pre-commissioning and commissioning ...   \n",
       "3  EDUCATION: Bachelor’s or Master’s in GIS, busi...   \n",
       "4  QUALIFICATIONS:RN license in the State of Texa...   \n",
       "\n",
       "                                            benefits  telecommuting  \\\n",
       "0                                                NaN              0   \n",
       "1  What you will get from usThrough being part of...              0   \n",
       "2                                                NaN              0   \n",
       "3  Our culture is anything but corporate—we have ...              0   \n",
       "4                              Full Benefits Offered              0   \n",
       "\n",
       "   has_company_logo  has_questions employment_type required_experience  \\\n",
       "0                 1              0           Other          Internship   \n",
       "1                 1              0       Full-time      Not Applicable   \n",
       "2                 1              0             NaN                 NaN   \n",
       "3                 1              0       Full-time    Mid-Senior level   \n",
       "4                 1              1       Full-time    Mid-Senior level   \n",
       "\n",
       "  required_education                   industry              function  \\\n",
       "0                NaN                        NaN             Marketing   \n",
       "1                NaN  Marketing and Advertising      Customer Service   \n",
       "2                NaN                        NaN                   NaN   \n",
       "3  Bachelor's Degree          Computer Software                 Sales   \n",
       "4  Bachelor's Degree     Hospital & Health Care  Health Care Provider   \n",
       "\n",
       "   fraudulent  \n",
       "0           0  \n",
       "1           0  \n",
       "2           0  \n",
       "3           0  \n",
       "4           0  "
      ]
     },
     "metadata": {},
     "output_type": "display_data"
    }
   ],
   "source": [
    "file_path = \"fake_job_postings.csv\"\n",
    "\n",
    "df_ori = pd.read_csv(file_path)\n",
    "df_ori.head()"
   ]
  },
  {
   "cell_type": "markdown",
   "metadata": {},
   "source": [
    "Extracting Description and fraudulent (Target)"
   ]
  },
  {
   "cell_type": "code",
   "execution_count": null,
   "metadata": {},
   "outputs": [
    {
     "name": "stdout",
     "output_type": "stream",
     "text": [
      "                                         description  fraudulent\n",
      "0  Food52, a fast-growing, James Beard Award-winn...           0\n",
      "1  Organised - Focused - Vibrant - Awesome!Do you...           0\n",
      "2  Our client, located in Houston, is actively se...           0\n",
      "3  THE COMPANY: ESRI – Environmental Systems Rese...           0\n",
      "4  JOB TITLE: Itemization Review ManagerLOCATION:...           0\n"
     ]
    },
    {
     "data": {
      "text/plain": [
       "np.int64(17879)"
      ]
     },
     "metadata": {},
     "output_type": "display_data"
    }
   ],
   "source": [
    "df = df_ori[['description', 'fraudulent']]\n",
    "\n",
    "print(df.head())\n",
    "df['description'].count()"
   ]
  },
  {
   "cell_type": "markdown",
   "metadata": {},
   "source": [
    "Removing Missing Values"
   ]
  },
  {
   "cell_type": "code",
   "execution_count": null,
   "metadata": {},
   "outputs": [
    {
     "name": "stdout",
     "output_type": "stream",
     "text": [
      "description    1\n",
      "fraudulent     0\n",
      "dtype: int64\n"
     ]
    }
   ],
   "source": [
    "print(df.isna().sum())\n",
    "df=df.dropna()"
   ]
  },
  {
   "cell_type": "markdown",
   "metadata": {},
   "source": [
    "Removing Duplicates"
   ]
  },
  {
   "cell_type": "code",
   "execution_count": null,
   "metadata": {},
   "outputs": [
    {
     "name": "stdout",
     "output_type": "stream",
     "text": [
      "0\n"
     ]
    }
   ],
   "source": [
    "print(df.duplicated().sum())\n",
    "df = df.drop_duplicates()"
   ]
  },
  {
   "cell_type": "markdown",
   "metadata": {},
   "source": [
    "Removing Non English Languages"
   ]
  },
  {
   "cell_type": "code",
   "execution_count": null,
   "metadata": {},
   "outputs": [
    {
     "name": "stdout",
     "output_type": "stream",
     "text": [
      "Language distribution in the dataset:\n",
      "Counter({'en': 14678, 'el': 49, 'nl': 23, 'es': 12, 'it': 10, 'de': 6, 'ca': 5, 'pl': 5, 'pt': 4, 'ko': 3, 'error': 1, 'vi': 1, 'da': 1, 'no': 1, 'sv': 1, 'et': 1, 'th': 1})\n"
     ]
    }
   ],
   "source": [
    "DetectorFactory.seed = 42\n",
    "\n",
    "def get_language(text):\n",
    "    try:\n",
    "        return detect(text)\n",
    "    except LangDetectException:\n",
    "        return \"error\"\n",
    "df = df[df['description'].notnull()]\n",
    "\n",
    "# Calculate language distribution without adding a new column\n",
    "language_distribution = Counter(df['description'].apply(get_language))\n",
    "\n",
    "print(\"Language distribution in the dataset:\")\n",
    "print(language_distribution)"
   ]
  },
  {
   "cell_type": "code",
   "execution_count": null,
   "metadata": {},
   "outputs": [
    {
     "name": "stdout",
     "output_type": "stream",
     "text": [
      "Filtered English-only dataset shape: (14678, 2)\n"
     ]
    }
   ],
   "source": [
    "# Set seed for reproducibility\n",
    "DetectorFactory.seed = 42\n",
    "\n",
    "def is_english(text):\n",
    "    try:\n",
    "        return detect(text) == \"en\"\n",
    "    except LangDetectException:\n",
    "        return False\n",
    "    \n",
    "    df = df[df['description'].notnull()]\n",
    "\n",
    "df = df[df['description'].notnull()]\n",
    "\n",
    "# Filter rows in the DataFrame to keep only those where the description is English\n",
    "df = df[df['description'].apply(is_english)]\n",
    "\n",
    "print(\"Filtered English-only dataset shape:\", df.shape)\n"
   ]
  },
  {
   "cell_type": "code",
   "execution_count": null,
   "metadata": {},
   "outputs": [
    {
     "name": "stdout",
     "output_type": "stream",
     "text": [
      "Language distribution in the filtered dataset:\n",
      "Counter({'en': 14678})\n"
     ]
    }
   ],
   "source": [
    "# Check the language for each description in the filtered DataFrame\n",
    "detected_languages = df['description'].apply(lambda x: detect(x))\n",
    "language_distribution = Counter(detected_languages)\n",
    "\n",
    "print(\"Language distribution in the filtered dataset:\")\n",
    "print(language_distribution)\n"
   ]
  },
  {
   "cell_type": "markdown",
   "metadata": {},
   "source": [
    "Non-Standard Language Use"
   ]
  },
  {
   "cell_type": "code",
   "execution_count": null,
   "metadata": {},
   "outputs": [],
   "source": [
    "extractor = URLExtract()\n",
    "\n",
    "def clean_text(text):\n",
    "    # Remove URLs\n",
    "    text = re.sub(r\"http\\S+|www\\S+\", \"\", text)  \n",
    "    text = re.sub(r\"@\\S+\", \"\", text)  # Remove mentions (@username)\n",
    "    \n",
    "    # Remove hashtags\n",
    "    text = re.sub(r\"#\\S+\", \"\", text)\n",
    "    \n",
    "    # Remove emojis\n",
    "    text = emoji.replace_emoji(text, replace=\"\")  \n",
    "    \n",
    "    # Remove extra spaces\n",
    "    text = re.sub(r'\\s+', ' ', text).strip()\n",
    "    \n",
    "    return text\n",
    "\n",
    "df[\"description\"] = df[\"description\"].apply(clean_text)\n"
   ]
  },
  {
   "cell_type": "markdown",
   "metadata": {},
   "source": [
    "Spelling Checking"
   ]
  },
  {
   "cell_type": "code",
   "execution_count": null,
   "metadata": {},
   "outputs": [
    {
     "name": "stdout",
     "output_type": "stream",
     "text": [
      "Spell correction applied to 'description' column.\n"
     ]
    }
   ],
   "source": [
    "sym_spell = SymSpell(max_dictionary_edit_distance=2, prefix_length=7)\n",
    "\n",
    "# Load dictionary (ensure the correct path)\n",
    "dictionary_path = \"C:\\\\Users\\\\Liang\\\\Downloads\\\\frequency_dictionary_en_82_765.txt\"\n",
    "if not sym_spell.load_dictionary(dictionary_path, term_index=0, count_index=1):\n",
    "    print(\"Dictionary file not found!\")\n",
    "\n",
    "# Function to correct spelling\n",
    "def correct_spelling_symspell(text):\n",
    "    if isinstance(text, str):\n",
    "        words = text.split()\n",
    "        corrected_words = [\n",
    "            sym_spell.lookup(word, Verbosity.CLOSEST, max_edit_distance=2)[0].term \n",
    "            if sym_spell.lookup(word, Verbosity.CLOSEST, max_edit_distance=2) else word \n",
    "            for word in words\n",
    "        ]\n",
    "        return \" \".join(corrected_words)\n",
    "    return text\n",
    "\n",
    "# Apply spell correction directly to 'description' column\n",
    "df[\"description\"] = df[\"description\"].apply(correct_spelling_symspell)\n",
    "\n",
    "print(\"Spell correction applied to 'description' column.\")\n"
   ]
  },
  {
   "cell_type": "markdown",
   "metadata": {},
   "source": [
    "Grammar Checking"
   ]
  },
  {
   "cell_type": "code",
   "execution_count": null,
   "metadata": {},
   "outputs": [
    {
     "name": "stdout",
     "output_type": "stream",
     "text": [
      "Grammar correction applied to 'description' column.\n"
     ]
    }
   ],
   "source": [
    "# Initialize LanguageTool for US English\n",
    "tool = language_tool_python.LanguageTool(\"en-US\")\n",
    "\n",
    "# Function to correct grammar\n",
    "def correct_grammar(text):\n",
    "    if isinstance(text, str):\n",
    "        matches = tool.check(text)\n",
    "        return language_tool_python.utils.correct(text, matches)\n",
    "    return text\n",
    "\n",
    "# Use ThreadPoolExecutor for parallel execution\n",
    "with ThreadPoolExecutor(max_workers=8) as executor:  # Adjust max_workers based on your CPU\n",
    "    df[\"description\"] = list(executor.map(correct_grammar, df[\"description\"]))\n",
    "\n",
    "print(\"Grammar correction applied to 'description' column.\")\n"
   ]
  },
  {
   "cell_type": "markdown",
   "metadata": {},
   "source": [
    "Stopwords"
   ]
  },
  {
   "cell_type": "code",
   "execution_count": null,
   "metadata": {},
   "outputs": [
    {
     "name": "stdout",
     "output_type": "stream",
     "text": [
      "Stopwords removed from 'description' column.\n"
     ]
    }
   ],
   "source": [
    "nlp = spacy.load(\"en_core_web_sm\")\n",
    "\n",
    "def remove_stopwords(text):\n",
    "    \"\"\"Removes stopwords from text.\"\"\"\n",
    "    doc = nlp(text)\n",
    "    return \" \".join([token.text for token in doc if not token.is_stop])\n",
    "\n",
    "# Apply stopword removal directly to 'description' column\n",
    "df[\"description\"] = df[\"description\"].apply(remove_stopwords)\n",
    "\n",
    "print(\"Stopwords removed from 'description' column.\")\n"
   ]
  },
  {
   "cell_type": "markdown",
   "metadata": {},
   "source": [
    "Emoji Tracker"
   ]
  },
  {
   "cell_type": "code",
   "execution_count": null,
   "metadata": {},
   "outputs": [
    {
     "name": "stdout",
     "output_type": "stream",
     "text": [
      "False\n"
     ]
    }
   ],
   "source": [
    "has_emoji = df[\"description\"].apply(lambda text: bool(emoji.emoji_list(text))).any()\n",
    "\n",
    "print(has_emoji)\n"
   ]
  },
  {
   "cell_type": "markdown",
   "metadata": {},
   "source": [
    "Case Sensitivity (spaCy)"
   ]
  },
  {
   "cell_type": "code",
   "execution_count": null,
   "metadata": {},
   "outputs": [],
   "source": [
    "def sentence_case(text):\n",
    "    doc = nlp(text)\n",
    "    sentences = [sent.text.capitalize() for sent in doc.sents]\n",
    "    return \" \".join(sentences)\n",
    "\n",
    "df[\"description\"] = df[\"description\"].apply(sentence_case)\n"
   ]
  },
  {
   "cell_type": "markdown",
   "metadata": {},
   "source": [
    "Redundant Information"
   ]
  },
  {
   "cell_type": "code",
   "execution_count": null,
   "metadata": {},
   "outputs": [],
   "source": [
    "def remove_redundant_phrases(text):\n",
    "    return re.sub(r'\\b(\\w+)( \\1\\b)+', r'\\1', text, flags=re.IGNORECASE)\n",
    "\n",
    "df[\"description\"] = df[\"description\"].apply(remove_redundant_phrases)\n"
   ]
  },
  {
   "cell_type": "markdown",
   "metadata": {},
   "source": [
    "Handling Contractions"
   ]
  },
  {
   "cell_type": "code",
   "execution_count": null,
   "metadata": {},
   "outputs": [],
   "source": [
    "df[\"description\"] = df[\"description\"].apply(lambda x: contractions.fix(x) if isinstance(x, str) else x)\n"
   ]
  },
  {
   "cell_type": "markdown",
   "metadata": {},
   "source": [
    "Tokenization with spaCy"
   ]
  },
  {
   "cell_type": "code",
   "execution_count": null,
   "metadata": {},
   "outputs": [],
   "source": [
    "def tokenize_text(text):\n",
    "    doc = nlp(text)\n",
    "    return [token.text for token in doc if not token.is_punct]  \n",
    "\n",
    "df[\"description\"] = df[\"description\"].apply(tokenize_text)"
   ]
  },
  {
   "cell_type": "markdown",
   "metadata": {},
   "source": [
    "Lemmatization with spaCy"
   ]
  },
  {
   "cell_type": "code",
   "execution_count": null,
   "metadata": {},
   "outputs": [
    {
     "name": "stdout",
     "output_type": "stream",
     "text": [
      "0    [food52, fast, grow, game, hear, award, win, o...\n",
      "1    [organised, focus, vibrant, awesome, passion, ...\n",
      "2    [Client, locate, houston, actively, seek, expe...\n",
      "3    [company, esri, environmental, systems, resear...\n",
      "4    [Job, title, itemization, review, managerlocat...\n",
      "Name: description, dtype: object\n"
     ]
    }
   ],
   "source": [
    "def process_text(text):\n",
    "    if isinstance(text, list):  \n",
    "        text = \" \".join(text)  # Convert lists to strings\n",
    "    elif not isinstance(text, str):\n",
    "        return []  # Return empty list if it's neither a string nor a list\n",
    "    \n",
    "    doc = nlp(text)\n",
    "    # Return tokens as a list (excluding punctuation)\n",
    "    return [token.lemma_ for token in doc if not token.is_punct]\n",
    "\n",
    "# To keep as list:\n",
    "df[\"description\"] = df[\"description\"].apply(process_text)\n",
    "print(df[\"description\"].head())\n"
   ]
  },
  {
   "cell_type": "markdown",
   "metadata": {},
   "source": [
    "TF-IDF Vectorizer"
   ]
  },
  {
   "cell_type": "code",
   "execution_count": null,
   "metadata": {},
   "outputs": [
    {
     "name": "stdout",
     "output_type": "stream",
     "text": [
      "✅ 'description' column is now numerical!\n",
      "   feature_0  feature_1  feature_2  feature_3  feature_4  feature_5  \\\n",
      "0        0.0   0.000000        0.0        0.0        0.0        0.0   \n",
      "1        0.0   0.103841        0.0        0.0        0.0        0.0   \n",
      "2        0.0   0.000000        0.0        0.0        0.0        0.0   \n",
      "3        0.0   0.000000        0.0        0.0        0.0        0.0   \n",
      "4        0.0   0.000000        0.0        0.0        0.0        0.0   \n",
      "\n",
      "   feature_6  feature_7  feature_8  feature_9  ...  feature_4991  \\\n",
      "0        0.0        0.0        0.0        0.0  ...           0.0   \n",
      "1        0.0        0.0        0.0        0.0  ...           0.0   \n",
      "2        0.0        0.0        0.0        0.0  ...           0.0   \n",
      "3        0.0        0.0        0.0        0.0  ...           0.0   \n",
      "4        0.0        0.0        0.0        0.0  ...           0.0   \n",
      "\n",
      "   feature_4992  feature_4993  feature_4994  feature_4995  feature_4996  \\\n",
      "0           0.0           0.0           0.0           0.0           0.0   \n",
      "1           0.0           0.0           0.0           0.0           0.0   \n",
      "2           0.0           0.0           0.0           0.0           0.0   \n",
      "3           0.0           0.0           0.0           0.0           0.0   \n",
      "4           0.0           0.0           0.0           0.0           0.0   \n",
      "\n",
      "   feature_4997  feature_4998  feature_4999  fraudulent  \n",
      "0           0.0      0.000000           0.0           0  \n",
      "1           0.0      0.000000           0.0           0  \n",
      "2           0.0      0.000000           0.0           0  \n",
      "3           0.0      0.071604           0.0           0  \n",
      "4           0.0      0.000000           0.0           0  \n",
      "\n",
      "[5 rows x 5001 columns]\n"
     ]
    }
   ],
   "source": [
    "df[\"description\"] = df[\"description\"].apply(lambda x: \" \".join(x) if isinstance(x, list) else str(x))\n",
    "\n",
    "# Initialize TF-IDF Vectorizer\n",
    "vectorizer = TfidfVectorizer(max_features=5000)\n",
    "\n",
    "# Transform text into numerical representation\n",
    "X = vectorizer.fit_transform(df[\"description\"])\n",
    "\n",
    "# Convert the sparse matrix to a DataFrame\n",
    "X_df = pd.DataFrame(X.toarray(), columns=[f\"feature_{i}\" for i in range(X.shape[1])])\n",
    "\n",
    "# Replace 'description' column with numerical features\n",
    "df = pd.concat([X_df, df.drop(columns=[\"description\"])], axis=1)\n",
    "\n",
    "print(\"'description' column is now numerical!\")\n",
    "print(df.head())  # Check the new DataFrame"
   ]
  },
  {
   "cell_type": "code",
   "execution_count": null,
   "metadata": {},
   "outputs": [
    {
     "data": {
      "text/html": [
       "<div>\n",
       "<style scoped>\n",
       "    .dataframe tbody tr th:only-of-type {\n",
       "        vertical-align: middle;\n",
       "    }\n",
       "\n",
       "    .dataframe tbody tr th {\n",
       "        vertical-align: top;\n",
       "    }\n",
       "\n",
       "    .dataframe thead th {\n",
       "        text-align: right;\n",
       "    }\n",
       "</style>\n",
       "<table border=\"1\" class=\"dataframe\">\n",
       "  <thead>\n",
       "    <tr style=\"text-align: right;\">\n",
       "      <th></th>\n",
       "      <th>feature_0</th>\n",
       "      <th>feature_1</th>\n",
       "      <th>feature_2</th>\n",
       "      <th>feature_3</th>\n",
       "      <th>feature_4</th>\n",
       "      <th>feature_5</th>\n",
       "      <th>feature_6</th>\n",
       "      <th>feature_7</th>\n",
       "      <th>feature_8</th>\n",
       "      <th>feature_9</th>\n",
       "      <th>...</th>\n",
       "      <th>feature_4991</th>\n",
       "      <th>feature_4992</th>\n",
       "      <th>feature_4993</th>\n",
       "      <th>feature_4994</th>\n",
       "      <th>feature_4995</th>\n",
       "      <th>feature_4996</th>\n",
       "      <th>feature_4997</th>\n",
       "      <th>feature_4998</th>\n",
       "      <th>feature_4999</th>\n",
       "      <th>fraudulent</th>\n",
       "    </tr>\n",
       "  </thead>\n",
       "  <tbody>\n",
       "    <tr>\n",
       "      <th>0</th>\n",
       "      <td>0.0</td>\n",
       "      <td>0.000000</td>\n",
       "      <td>0.0</td>\n",
       "      <td>0.0</td>\n",
       "      <td>0.0</td>\n",
       "      <td>0.0</td>\n",
       "      <td>0.0</td>\n",
       "      <td>0.0</td>\n",
       "      <td>0.0</td>\n",
       "      <td>0.0</td>\n",
       "      <td>...</td>\n",
       "      <td>0.0</td>\n",
       "      <td>0.0</td>\n",
       "      <td>0.0</td>\n",
       "      <td>0.0</td>\n",
       "      <td>0.0</td>\n",
       "      <td>0.0</td>\n",
       "      <td>0.0</td>\n",
       "      <td>0.000000</td>\n",
       "      <td>0.0</td>\n",
       "      <td>0</td>\n",
       "    </tr>\n",
       "    <tr>\n",
       "      <th>1</th>\n",
       "      <td>0.0</td>\n",
       "      <td>0.103841</td>\n",
       "      <td>0.0</td>\n",
       "      <td>0.0</td>\n",
       "      <td>0.0</td>\n",
       "      <td>0.0</td>\n",
       "      <td>0.0</td>\n",
       "      <td>0.0</td>\n",
       "      <td>0.0</td>\n",
       "      <td>0.0</td>\n",
       "      <td>...</td>\n",
       "      <td>0.0</td>\n",
       "      <td>0.0</td>\n",
       "      <td>0.0</td>\n",
       "      <td>0.0</td>\n",
       "      <td>0.0</td>\n",
       "      <td>0.0</td>\n",
       "      <td>0.0</td>\n",
       "      <td>0.000000</td>\n",
       "      <td>0.0</td>\n",
       "      <td>0</td>\n",
       "    </tr>\n",
       "    <tr>\n",
       "      <th>2</th>\n",
       "      <td>0.0</td>\n",
       "      <td>0.000000</td>\n",
       "      <td>0.0</td>\n",
       "      <td>0.0</td>\n",
       "      <td>0.0</td>\n",
       "      <td>0.0</td>\n",
       "      <td>0.0</td>\n",
       "      <td>0.0</td>\n",
       "      <td>0.0</td>\n",
       "      <td>0.0</td>\n",
       "      <td>...</td>\n",
       "      <td>0.0</td>\n",
       "      <td>0.0</td>\n",
       "      <td>0.0</td>\n",
       "      <td>0.0</td>\n",
       "      <td>0.0</td>\n",
       "      <td>0.0</td>\n",
       "      <td>0.0</td>\n",
       "      <td>0.000000</td>\n",
       "      <td>0.0</td>\n",
       "      <td>0</td>\n",
       "    </tr>\n",
       "    <tr>\n",
       "      <th>3</th>\n",
       "      <td>0.0</td>\n",
       "      <td>0.000000</td>\n",
       "      <td>0.0</td>\n",
       "      <td>0.0</td>\n",
       "      <td>0.0</td>\n",
       "      <td>0.0</td>\n",
       "      <td>0.0</td>\n",
       "      <td>0.0</td>\n",
       "      <td>0.0</td>\n",
       "      <td>0.0</td>\n",
       "      <td>...</td>\n",
       "      <td>0.0</td>\n",
       "      <td>0.0</td>\n",
       "      <td>0.0</td>\n",
       "      <td>0.0</td>\n",
       "      <td>0.0</td>\n",
       "      <td>0.0</td>\n",
       "      <td>0.0</td>\n",
       "      <td>0.071604</td>\n",
       "      <td>0.0</td>\n",
       "      <td>0</td>\n",
       "    </tr>\n",
       "    <tr>\n",
       "      <th>4</th>\n",
       "      <td>0.0</td>\n",
       "      <td>0.000000</td>\n",
       "      <td>0.0</td>\n",
       "      <td>0.0</td>\n",
       "      <td>0.0</td>\n",
       "      <td>0.0</td>\n",
       "      <td>0.0</td>\n",
       "      <td>0.0</td>\n",
       "      <td>0.0</td>\n",
       "      <td>0.0</td>\n",
       "      <td>...</td>\n",
       "      <td>0.0</td>\n",
       "      <td>0.0</td>\n",
       "      <td>0.0</td>\n",
       "      <td>0.0</td>\n",
       "      <td>0.0</td>\n",
       "      <td>0.0</td>\n",
       "      <td>0.0</td>\n",
       "      <td>0.000000</td>\n",
       "      <td>0.0</td>\n",
       "      <td>0</td>\n",
       "    </tr>\n",
       "  </tbody>\n",
       "</table>\n",
       "<p>5 rows × 5001 columns</p>\n",
       "</div>"
      ],
      "text/plain": [
       "   feature_0  feature_1  feature_2  feature_3  feature_4  feature_5  \\\n",
       "0        0.0   0.000000        0.0        0.0        0.0        0.0   \n",
       "1        0.0   0.103841        0.0        0.0        0.0        0.0   \n",
       "2        0.0   0.000000        0.0        0.0        0.0        0.0   \n",
       "3        0.0   0.000000        0.0        0.0        0.0        0.0   \n",
       "4        0.0   0.000000        0.0        0.0        0.0        0.0   \n",
       "\n",
       "   feature_6  feature_7  feature_8  feature_9  ...  feature_4991  \\\n",
       "0        0.0        0.0        0.0        0.0  ...           0.0   \n",
       "1        0.0        0.0        0.0        0.0  ...           0.0   \n",
       "2        0.0        0.0        0.0        0.0  ...           0.0   \n",
       "3        0.0        0.0        0.0        0.0  ...           0.0   \n",
       "4        0.0        0.0        0.0        0.0  ...           0.0   \n",
       "\n",
       "   feature_4992  feature_4993  feature_4994  feature_4995  feature_4996  \\\n",
       "0           0.0           0.0           0.0           0.0           0.0   \n",
       "1           0.0           0.0           0.0           0.0           0.0   \n",
       "2           0.0           0.0           0.0           0.0           0.0   \n",
       "3           0.0           0.0           0.0           0.0           0.0   \n",
       "4           0.0           0.0           0.0           0.0           0.0   \n",
       "\n",
       "   feature_4997  feature_4998  feature_4999  fraudulent  \n",
       "0           0.0      0.000000           0.0           0  \n",
       "1           0.0      0.000000           0.0           0  \n",
       "2           0.0      0.000000           0.0           0  \n",
       "3           0.0      0.071604           0.0           0  \n",
       "4           0.0      0.000000           0.0           0  \n",
       "\n",
       "[5 rows x 5001 columns]"
      ]
     },
     "metadata": {},
     "output_type": "display_data"
    }
   ],
   "source": [
    "df.head()"
   ]
  },
  {
   "cell_type": "markdown",
   "metadata": {},
   "source": [
    "Checking Imbalance of Target Variable"
   ]
  },
  {
   "cell_type": "code",
   "execution_count": null,
   "metadata": {},
   "outputs": [
    {
     "name": "stdout",
     "output_type": "stream",
     "text": [
      "Target distribution:\n",
      " fraudulent\n",
      "0    14052\n",
      "1    14052\n",
      "Name: count, dtype: int64\n",
      "Target percentages:\n",
      " fraudulent\n",
      "0    50.0\n",
      "1    50.0\n",
      "Name: proportion, dtype: float64\n"
     ]
    }
   ],
   "source": [
    "# Check the distribution of the target variable\n",
    "target_distribution = df['fraudulent'].value_counts()\n",
    "print(\"Target distribution:\\n\", target_distribution)\n",
    "\n",
    "# Optionally, check percentages\n",
    "target_percentages = df['fraudulent'].value_counts(normalize=True) * 100\n",
    "print(\"Target percentages:\\n\", target_percentages)\n"
   ]
  },
  {
   "cell_type": "markdown",
   "metadata": {},
   "source": [
    "Over Sampling using SMOTE"
   ]
  },
  {
   "cell_type": "code",
   "execution_count": null,
   "metadata": {},
   "outputs": [],
   "source": [
    "# Initialize the vectorizer\n",
    "vectorizer = TfidfVectorizer(analyzer=lambda x: x, max_features=5000)\n",
    "\n",
    "# Convert tokenized text into numerical format\n",
    "X = vectorizer.fit_transform(df[\"description\"])  # ✅ Define X before SMOTE\n",
    "\n",
    "# Initialize SMOTE\n",
    "smote = SMOTE(random_state=42)\n",
    "\n",
    "# Perform oversampling\n",
    "X_resampled, y_resampled = smote.fit_resample(X, df[\"fraudulent\"])  # ✅ Now X is defined\n",
    "\n",
    "# Print results\n",
    "print(\"Resampled dataset shape:\", X_resampled.shape)\n",
    "print(\"Resampled target distribution:\\n\", pd.Series(y_resampled).value_counts())\n"
   ]
  },
  {
   "cell_type": "code",
   "execution_count": null,
   "metadata": {},
   "outputs": [
    {
     "name": "stdout",
     "output_type": "stream",
     "text": [
      "Updated Target Distribution:\n",
      " fraudulent\n",
      "0    14052\n",
      "1    14052\n",
      "Name: count, dtype: int64\n",
      "Updated Target Percentages:\n",
      " fraudulent\n",
      "0    50.0\n",
      "1    50.0\n",
      "Name: proportion, dtype: float64\n"
     ]
    }
   ],
   "source": [
    "from imblearn.over_sampling import SMOTE\n",
    "\n",
    "# Step 1: Separate Features and Target\n",
    "X = df.drop(columns=[\"fraudulent\"])  # Keep all features\n",
    "y = df[\"fraudulent\"]  # Target variable\n",
    "\n",
    "# Step 2: Apply SMOTE\n",
    "smote = SMOTE(random_state=42)\n",
    "X_resampled, y_resampled = smote.fit_resample(X, y)\n",
    "\n",
    "# Step 3: Overwrite `df` with the resampled data\n",
    "df = X_resampled.copy()\n",
    "df[\"fraudulent\"] = y_resampled  # Add target column back\n",
    "\n",
    "# Step 4: Check the new class distribution\n",
    "print(\"Updated Target Distribution:\\n\", df[\"fraudulent\"].value_counts())\n",
    "print(\"Updated Target Percentages:\\n\", df[\"fraudulent\"].value_counts(normalize=True) * 100)\n"
   ]
  },
  {
   "cell_type": "markdown",
   "metadata": {},
   "source": [
    "Machine Learning Model"
   ]
  },
  {
   "cell_type": "markdown",
   "metadata": {},
   "source": [
    "Defining x and y"
   ]
  },
  {
   "cell_type": "code",
   "execution_count": null,
   "metadata": {},
   "outputs": [],
   "source": [
    "#Define features and target\n",
    "X = df.drop(columns=[\"fraudulent\"])     #All features\n",
    "y = df[\"fraudulent\"]                    #Target variable"
   ]
  },
  {
   "cell_type": "markdown",
   "metadata": {},
   "source": [
    "Split train and test data"
   ]
  },
  {
   "cell_type": "code",
   "execution_count": null,
   "metadata": {},
   "outputs": [],
   "source": [
    "#Train-test split\n",
    "X_train, X_test, y_train, y_test = train_test_split(X, y, test_size=0.2, random_state=42, stratify=y)"
   ]
  },
  {
   "cell_type": "markdown",
   "metadata": {},
   "source": [
    "Model 1: Random Forest"
   ]
  },
  {
   "cell_type": "code",
   "execution_count": null,
   "metadata": {},
   "outputs": [
    {
     "data": {
      "text/html": [
       "<style>#sk-container-id-3 {color: black;}#sk-container-id-3 pre{padding: 0;}#sk-container-id-3 div.sk-toggleable {background-color: white;}#sk-container-id-3 label.sk-toggleable__label {cursor: pointer;display: block;width: 100%;margin-bottom: 0;padding: 0.3em;box-sizing: border-box;text-align: center;}#sk-container-id-3 label.sk-toggleable__label-arrow:before {content: \"▸\";float: left;margin-right: 0.25em;color: #696969;}#sk-container-id-3 label.sk-toggleable__label-arrow:hover:before {color: black;}#sk-container-id-3 div.sk-estimator:hover label.sk-toggleable__label-arrow:before {color: black;}#sk-container-id-3 div.sk-toggleable__content {max-height: 0;max-width: 0;overflow: hidden;text-align: left;background-color: #f0f8ff;}#sk-container-id-3 div.sk-toggleable__content pre {margin: 0.2em;color: black;border-radius: 0.25em;background-color: #f0f8ff;}#sk-container-id-3 input.sk-toggleable__control:checked~div.sk-toggleable__content {max-height: 200px;max-width: 100%;overflow: auto;}#sk-container-id-3 input.sk-toggleable__control:checked~label.sk-toggleable__label-arrow:before {content: \"▾\";}#sk-container-id-3 div.sk-estimator input.sk-toggleable__control:checked~label.sk-toggleable__label {background-color: #d4ebff;}#sk-container-id-3 div.sk-label input.sk-toggleable__control:checked~label.sk-toggleable__label {background-color: #d4ebff;}#sk-container-id-3 input.sk-hidden--visually {border: 0;clip: rect(1px 1px 1px 1px);clip: rect(1px, 1px, 1px, 1px);height: 1px;margin: -1px;overflow: hidden;padding: 0;position: absolute;width: 1px;}#sk-container-id-3 div.sk-estimator {font-family: monospace;background-color: #f0f8ff;border: 1px dotted black;border-radius: 0.25em;box-sizing: border-box;margin-bottom: 0.5em;}#sk-container-id-3 div.sk-estimator:hover {background-color: #d4ebff;}#sk-container-id-3 div.sk-parallel-item::after {content: \"\";width: 100%;border-bottom: 1px solid gray;flex-grow: 1;}#sk-container-id-3 div.sk-label:hover label.sk-toggleable__label {background-color: #d4ebff;}#sk-container-id-3 div.sk-serial::before {content: \"\";position: absolute;border-left: 1px solid gray;box-sizing: border-box;top: 0;bottom: 0;left: 50%;z-index: 0;}#sk-container-id-3 div.sk-serial {display: flex;flex-direction: column;align-items: center;background-color: white;padding-right: 0.2em;padding-left: 0.2em;position: relative;}#sk-container-id-3 div.sk-item {position: relative;z-index: 1;}#sk-container-id-3 div.sk-parallel {display: flex;align-items: stretch;justify-content: center;background-color: white;position: relative;}#sk-container-id-3 div.sk-item::before, #sk-container-id-3 div.sk-parallel-item::before {content: \"\";position: absolute;border-left: 1px solid gray;box-sizing: border-box;top: 0;bottom: 0;left: 50%;z-index: -1;}#sk-container-id-3 div.sk-parallel-item {display: flex;flex-direction: column;z-index: 1;position: relative;background-color: white;}#sk-container-id-3 div.sk-parallel-item:first-child::after {align-self: flex-end;width: 50%;}#sk-container-id-3 div.sk-parallel-item:last-child::after {align-self: flex-start;width: 50%;}#sk-container-id-3 div.sk-parallel-item:only-child::after {width: 0;}#sk-container-id-3 div.sk-dashed-wrapped {border: 1px dashed gray;margin: 0 0.4em 0.5em 0.4em;box-sizing: border-box;padding-bottom: 0.4em;background-color: white;}#sk-container-id-3 div.sk-label label {font-family: monospace;font-weight: bold;display: inline-block;line-height: 1.2em;}#sk-container-id-3 div.sk-label-container {text-align: center;}#sk-container-id-3 div.sk-container {/* jupyter's `normalize.less` sets `[hidden] { display: none; }` but bootstrap.min.css set `[hidden] { display: none !important; }` so we also need the `!important` here to be able to override the default hidden behavior on the sphinx rendered scikit-learn.org. See: https://github.com/scikit-learn/scikit-learn/issues/21755 */display: inline-block !important;position: relative;}#sk-container-id-3 div.sk-text-repr-fallback {display: none;}</style><div id=\"sk-container-id-3\" class=\"sk-top-container\"><div class=\"sk-text-repr-fallback\"><pre>RandomForestClassifier(max_depth=20, min_samples_leaf=2, min_samples_split=5,\n",
       "                       random_state=42)</pre><b>In a Jupyter environment, please rerun this cell to show the HTML representation or trust the notebook. <br />On GitHub, the HTML representation is unable to render, please try loading this page with nbviewer.org.</b></div><div class=\"sk-container\" hidden><div class=\"sk-item\"><div class=\"sk-estimator sk-toggleable\"><input class=\"sk-toggleable__control sk-hidden--visually\" id=\"sk-estimator-id-5\" type=\"checkbox\" checked><label for=\"sk-estimator-id-5\" class=\"sk-toggleable__label sk-toggleable__label-arrow\">RandomForestClassifier</label><div class=\"sk-toggleable__content\"><pre>RandomForestClassifier(max_depth=20, min_samples_leaf=2, min_samples_split=5,\n",
       "                       random_state=42)</pre></div></div></div></div></div>"
      ],
      "text/plain": [
       "RandomForestClassifier(max_depth=20, min_samples_leaf=2, min_samples_split=5,\n",
       "                       random_state=42)"
      ]
     },
     "metadata": {},
     "output_type": "display_data"
    }
   ],
   "source": [
    "#Random Forest Model\n",
    "rf_model = RandomForestClassifier(n_estimators=100, max_depth=20, min_samples_split=5, min_samples_leaf=2, bootstrap=True, random_state=42)\n",
    "rf_model.fit(X_train, y_train)"
   ]
  },
  {
   "cell_type": "code",
   "execution_count": null,
   "metadata": {},
   "outputs": [
    {
     "name": "stdout",
     "output_type": "stream",
     "text": [
      "Random Forest Model Performance:\n",
      "Accuracy: 0.9775840597758406\n",
      "              precision    recall  f1-score   support\n",
      "\n",
      "           0       0.96      1.00      0.98      2811\n",
      "           1       1.00      0.96      0.98      2810\n",
      "\n",
      "    accuracy                           0.98      5621\n",
      "   macro avg       0.98      0.98      0.98      5621\n",
      "weighted avg       0.98      0.98      0.98      5621\n",
      "\n"
     ]
    }
   ],
   "source": [
    "#Predict\n",
    "rf_preds = rf_model.predict(X_test)\n",
    "\n",
    "#Evaluate\n",
    "print(\"Random Forest Model Performance:\")\n",
    "print(\"Accuracy:\", accuracy_score(y_test, rf_preds))\n",
    "print(classification_report(y_test, rf_preds))"
   ]
  },
  {
   "cell_type": "code",
   "execution_count": null,
   "metadata": {},
   "outputs": [
    {
     "data": {
      "image/png": "[encoded data removed]",
      "text/plain": [
       "<Figure size 600x400 with 2 Axes>"
      ]
     },
     "metadata": {},
     "output_type": "display_data"
    }
   ],
   "source": [
    "#Confusion Matrix for Random Forest\n",
    "rf_cm = confusion_matrix(y_test, rf_preds)\n",
    "\n",
    "plt.figure(figsize=(6,4))\n",
    "sns.heatmap(rf_cm, annot=True, fmt=\"d\", cmap=\"Blues\", xticklabels=[\"Non-Fraud\", \"Fraud\"], yticklabels=[\"Non-Fraud\", \"Fraud\"])\n",
    "plt.xlabel(\"Predicted Label\")\n",
    "plt.ylabel(\"True Label\")\n",
    "plt.title(\"Random Forest Confusion Matrix\")\n",
    "plt.show()"
   ]
  },
  {
   "cell_type": "code",
   "execution_count": null,
   "metadata": {},
   "outputs": [
    {
     "data": {
      "image/png": "[encoded data removed]",
      "text/plain": [
       "<Figure size 600x400 with 1 Axes>"
      ]
     },
     "metadata": {},
     "output_type": "display_data"
    },
    {
     "name": "stdout",
     "output_type": "stream",
     "text": [
      "AUC-ROC Score: 0.9975651070843953\n"
     ]
    }
   ],
   "source": [
    "#Get probability scores for the positive class (Fraud)\n",
    "rf_probs = rf_model.predict_proba(X_test)[:, 1]\n",
    "\n",
    "#Compute AUC-ROC\n",
    "fpr, tpr, _ = roc_curve(y_test, rf_probs)\n",
    "auc_score = roc_auc_score(y_test, rf_probs)\n",
    "\n",
    "#Plot ROC Curve\n",
    "plt.figure(figsize=(6, 4))\n",
    "plt.plot(fpr, tpr, color='blue', label=f'Random Forest (AUC = {auc_score:.4f})')\n",
    "plt.plot([0, 1], [0, 1], linestyle='--', color='gray')  # Diagonal reference line\n",
    "plt.xlabel(\"False Positive Rate\")\n",
    "plt.ylabel(\"True Positive Rate\")\n",
    "plt.title(\"ROC Curve for Random Forest\")\n",
    "plt.legend()\n",
    "plt.show()\n",
    "\n",
    "#Print AUC Score\n",
    "print(\"AUC-ROC Score:\", auc_score)"
   ]
  },
  {
   "cell_type": "markdown",
   "metadata": {},
   "source": [
    "Model 2: AdaBoost"
   ]
  },
  {
   "cell_type": "code",
   "execution_count": null,
   "metadata": {},
   "outputs": [],
   "source": [
    "#Create AdaBoost model\n",
    "adaboost_model = AdaBoostClassifier(random_state=42)\n",
    "\n",
    "#Train the model\n",
    "adaboost_model.fit(X_train, y_train)\n",
    "\n",
    "#Make predictions\n",
    "adaboost_preds = adaboost_model.predict(X_test)"
   ]
  },
  {
   "cell_type": "code",
   "execution_count": null,
   "metadata": {},
   "outputs": [
    {
     "name": "stdout",
     "output_type": "stream",
     "text": [
      "AdaBoost Model Performance:\n",
      "Accuracy: 0.8984166518413094\n",
      "              precision    recall  f1-score   support\n",
      "\n",
      "           0       0.90      0.90      0.90      2811\n",
      "           1       0.90      0.90      0.90      2810\n",
      "\n",
      "    accuracy                           0.90      5621\n",
      "   macro avg       0.90      0.90      0.90      5621\n",
      "weighted avg       0.90      0.90      0.90      5621\n",
      "\n"
     ]
    }
   ],
   "source": [
    "#Evaluate the model\n",
    "print(\"AdaBoost Model Performance:\")\n",
    "print(\"Accuracy:\", accuracy_score(y_test, adaboost_preds))\n",
    "print(classification_report(y_test, adaboost_preds))"
   ]
  },
  {
   "cell_type": "code",
   "execution_count": null,
   "metadata": {},
   "outputs": [
    {
     "data": {
      "image/png": "[encoded data removed]",
      "text/plain": [
       "<Figure size 600x400 with 2 Axes>"
      ]
     },
     "metadata": {},
     "output_type": "display_data"
    }
   ],
   "source": [
    "#Confusion Matrix\n",
    "adaboost_cm = confusion_matrix(y_test, adaboost_preds)\n",
    "plt.figure(figsize=(6,4))\n",
    "sns.heatmap(adaboost_cm, annot=True, fmt=\"d\", cmap=\"Blues\", xticklabels=[\"Non-Fraud\", \"Fraud\"], yticklabels=[\"Non-Fraud\", \"Fraud\"])\n",
    "plt.xlabel(\"Predicted Label\")\n",
    "plt.ylabel(\"True Label\")\n",
    "plt.title(\"AdaBoost Confusion Matrix\")\n",
    "plt.show()"
   ]
  },
  {
   "cell_type": "code",
   "execution_count": null,
   "metadata": {},
   "outputs": [
    {
     "data": {
      "image/png": "[encoded data removed]",
      "text/plain": [
       "<Figure size 600x400 with 1 Axes>"
      ]
     },
     "metadata": {},
     "output_type": "display_data"
    },
    {
     "name": "stdout",
     "output_type": "stream",
     "text": [
      "AUC-ROC Score: 0.9626536446167889\n"
     ]
    }
   ],
   "source": [
    "#Get probability scores for the positive class (Fraud)\n",
    "adaboost_probs = adaboost_model.predict_proba(X_test)[:, 1]\n",
    "\n",
    "#Compute AUC-ROC\n",
    "fpr, tpr, _ = roc_curve(y_test, adaboost_probs)\n",
    "auc_score = roc_auc_score(y_test, adaboost_probs)\n",
    "\n",
    "#Plot ROC Curve\n",
    "plt.figure(figsize=(6, 4))\n",
    "plt.plot(fpr, tpr, color='blue', label=f'AdaBoost (AUC = {auc_score:.4f})')\n",
    "plt.plot([0, 1], [0, 1], linestyle='--', color='gray')  # Diagonal reference line\n",
    "plt.xlabel(\"False Positive Rate\")\n",
    "plt.ylabel(\"True Positive Rate\")\n",
    "plt.title(\"ROC Curve for AdaBoost\")\n",
    "plt.legend()\n",
    "plt.show()\n",
    "\n",
    "#Print AUC Score\n",
    "print(\"AUC-ROC Score:\", auc_score)"
   ]
  },
  {
   "cell_type": "markdown",
   "metadata": {},
   "source": [
    "Model 3: Support Vector Machine (SVM)"
   ]
  },
  {
   "cell_type": "code",
   "execution_count": null,
   "metadata": {},
   "outputs": [
    {
     "data": {
      "text/html": [
       "<style>#sk-container-id-1 {color: black;}#sk-container-id-1 pre{padding: 0;}#sk-container-id-1 div.sk-toggleable {background-color: white;}#sk-container-id-1 label.sk-toggleable__label {cursor: pointer;display: block;width: 100%;margin-bottom: 0;padding: 0.3em;box-sizing: border-box;text-align: center;}#sk-container-id-1 label.sk-toggleable__label-arrow:before {content: \"▸\";float: left;margin-right: 0.25em;color: #696969;}#sk-container-id-1 label.sk-toggleable__label-arrow:hover:before {color: black;}#sk-container-id-1 div.sk-estimator:hover label.sk-toggleable__label-arrow:before {color: black;}#sk-container-id-1 div.sk-toggleable__content {max-height: 0;max-width: 0;overflow: hidden;text-align: left;background-color: #f0f8ff;}#sk-container-id-1 div.sk-toggleable__content pre {margin: 0.2em;color: black;border-radius: 0.25em;background-color: #f0f8ff;}#sk-container-id-1 input.sk-toggleable__control:checked~div.sk-toggleable__content {max-height: 200px;max-width: 100%;overflow: auto;}#sk-container-id-1 input.sk-toggleable__control:checked~label.sk-toggleable__label-arrow:before {content: \"▾\";}#sk-container-id-1 div.sk-estimator input.sk-toggleable__control:checked~label.sk-toggleable__label {background-color: #d4ebff;}#sk-container-id-1 div.sk-label input.sk-toggleable__control:checked~label.sk-toggleable__label {background-color: #d4ebff;}#sk-container-id-1 input.sk-hidden--visually {border: 0;clip: rect(1px 1px 1px 1px);clip: rect(1px, 1px, 1px, 1px);height: 1px;margin: -1px;overflow: hidden;padding: 0;position: absolute;width: 1px;}#sk-container-id-1 div.sk-estimator {font-family: monospace;background-color: #f0f8ff;border: 1px dotted black;border-radius: 0.25em;box-sizing: border-box;margin-bottom: 0.5em;}#sk-container-id-1 div.sk-estimator:hover {background-color: #d4ebff;}#sk-container-id-1 div.sk-parallel-item::after {content: \"\";width: 100%;border-bottom: 1px solid gray;flex-grow: 1;}#sk-container-id-1 div.sk-label:hover label.sk-toggleable__label {background-color: #d4ebff;}#sk-container-id-1 div.sk-serial::before {content: \"\";position: absolute;border-left: 1px solid gray;box-sizing: border-box;top: 0;bottom: 0;left: 50%;z-index: 0;}#sk-container-id-1 div.sk-serial {display: flex;flex-direction: column;align-items: center;background-color: white;padding-right: 0.2em;padding-left: 0.2em;position: relative;}#sk-container-id-1 div.sk-item {position: relative;z-index: 1;}#sk-container-id-1 div.sk-parallel {display: flex;align-items: stretch;justify-content: center;background-color: white;position: relative;}#sk-container-id-1 div.sk-item::before, #sk-container-id-1 div.sk-parallel-item::before {content: \"\";position: absolute;border-left: 1px solid gray;box-sizing: border-box;top: 0;bottom: 0;left: 50%;z-index: -1;}#sk-container-id-1 div.sk-parallel-item {display: flex;flex-direction: column;z-index: 1;position: relative;background-color: white;}#sk-container-id-1 div.sk-parallel-item:first-child::after {align-self: flex-end;width: 50%;}#sk-container-id-1 div.sk-parallel-item:last-child::after {align-self: flex-start;width: 50%;}#sk-container-id-1 div.sk-parallel-item:only-child::after {width: 0;}#sk-container-id-1 div.sk-dashed-wrapped {border: 1px dashed gray;margin: 0 0.4em 0.5em 0.4em;box-sizing: border-box;padding-bottom: 0.4em;background-color: white;}#sk-container-id-1 div.sk-label label {font-family: monospace;font-weight: bold;display: inline-block;line-height: 1.2em;}#sk-container-id-1 div.sk-label-container {text-align: center;}#sk-container-id-1 div.sk-container {/* jupyter's `normalize.less` sets `[hidden] { display: none; }` but bootstrap.min.css set `[hidden] { display: none !important; }` so we also need the `!important` here to be able to override the default hidden behavior on the sphinx rendered scikit-learn.org. See: https://github.com/scikit-learn/scikit-learn/issues/21755 */display: inline-block !important;position: relative;}#sk-container-id-1 div.sk-text-repr-fallback {display: none;}</style><div id=\"sk-container-id-1\" class=\"sk-top-container\"><div class=\"sk-text-repr-fallback\"><pre>SVC(kernel=&#x27;linear&#x27;, probability=True)</pre><b>In a Jupyter environment, please rerun this cell to show the HTML representation or trust the notebook. <br />On GitHub, the HTML representation is unable to render, please try loading this page with nbviewer.org.</b></div><div class=\"sk-container\" hidden><div class=\"sk-item\"><div class=\"sk-estimator sk-toggleable\"><input class=\"sk-toggleable__control sk-hidden--visually\" id=\"sk-estimator-id-1\" type=\"checkbox\" checked><label for=\"sk-estimator-id-1\" class=\"sk-toggleable__label sk-toggleable__label-arrow\">SVC</label><div class=\"sk-toggleable__content\"><pre>SVC(kernel=&#x27;linear&#x27;, probability=True)</pre></div></div></div></div></div>"
      ],
      "text/plain": [
       "SVC(kernel='linear', probability=True)"
      ]
     },
     "metadata": {},
     "output_type": "display_data"
    }
   ],
   "source": [
    "# Train the model\n",
    "svm_model = SVC(kernel='linear', probability=True)  # Enable probability=True for ROC AUC\n",
    "svm_model.fit(X_train, y_train)\n"
   ]
  },
  {
   "cell_type": "code",
   "execution_count": null,
   "metadata": {},
   "outputs": [],
   "source": [
    "# Predict class labels and probabilities\n",
    "y_pred = svm_model.predict(X_test)\n",
    "y_prob = svm_model.predict_proba(X_test)[:, 1]"
   ]
  },
  {
   "cell_type": "code",
   "execution_count": null,
   "metadata": {},
   "outputs": [
    {
     "name": "stdout",
     "output_type": "stream",
     "text": [
      "Accuracy: 0.9797189112257605\n",
      "\n",
      "Classification Report:\n",
      "               precision    recall  f1-score   support\n",
      "\n",
      "           0       1.00      0.96      0.98      2818\n",
      "           1       0.96      1.00      0.98      2803\n",
      "\n",
      "    accuracy                           0.98      5621\n",
      "   macro avg       0.98      0.98      0.98      5621\n",
      "weighted avg       0.98      0.98      0.98      5621\n",
      "\n"
     ]
    }
   ],
   "source": [
    "\n",
    "# Accuracy and Classification Report\n",
    "print(\"Accuracy:\", accuracy_score(y_test, y_pred))\n",
    "print(\"\\nClassification Report:\\n\", classification_report(y_test, y_pred))\n"
   ]
  },
  {
   "cell_type": "code",
   "execution_count": null,
   "metadata": {},
   "outputs": [
    {
     "data": {
      "image/png": "[encoded data removed]",
      "text/plain": [
       "<Figure size 600x400 with 2 Axes>"
      ]
     },
     "metadata": {},
     "output_type": "display_data"
    }
   ],
   "source": [
    "\n",
    "# Confusion Matrix\n",
    "cm = confusion_matrix(y_test, y_pred)\n",
    "plt.figure(figsize=(6, 4))\n",
    "sns.heatmap(cm, annot=True, fmt='d', cmap='Blues',\n",
    "            xticklabels=['Pred 0', 'Pred 1'],\n",
    "            yticklabels=['True 0', 'True 1'])\n",
    "plt.title(\"Confusion Matrix\")\n",
    "plt.xlabel(\"Predicted Label\")\n",
    "plt.ylabel(\"True Label\")\n",
    "plt.tight_layout()\n",
    "plt.show()\n"
   ]
  },
  {
   "cell_type": "code",
   "execution_count": null,
   "metadata": {},
   "outputs": [
    {
     "name": "stdout",
     "output_type": "stream",
     "text": [
      "ROC AUC Score: 0.9963\n"
     ]
    },
    {
     "data": {
      "image/png": "[encoded data removed]",
      "text/plain": [
       "<Figure size 600x400 with 1 Axes>"
      ]
     },
     "metadata": {},
     "output_type": "display_data"
    }
   ],
   "source": [
    "# ROC Curve and AUC Score\n",
    "fpr, tpr, _ = roc_curve(y_test, y_prob)\n",
    "roc_auc = roc_auc_score(y_test, y_prob)\n",
    "print(f\"ROC AUC Score: {roc_auc:.4f}\")\n",
    "\n",
    "plt.figure(figsize=(6, 4))\n",
    "plt.plot(fpr, tpr, color='darkorange', label=f\"AUC = {roc_auc:.2f}\")\n",
    "plt.plot([0, 1], [0, 1], color='gray', linestyle='--')\n",
    "plt.title(\"ROC Curve\")\n",
    "plt.xlabel(\"False Positive Rate\")\n",
    "plt.ylabel(\"True Positive Rate\")\n",
    "plt.legend(loc=\"lower right\")\n",
    "plt.grid(True)\n",
    "plt.tight_layout()\n",
    "plt.show()"
   ]
  },
  {
   "cell_type": "markdown",
   "metadata": {},
   "source": [
    "Model 4: Convolutional Neural Network (CNN)"
   ]
  },
  {
   "cell_type": "code",
   "execution_count": null,
   "metadata": {},
   "outputs": [],
   "source": [
    "# Reshape input data for 1D CNN (CNN expects 3D input: samples, timesteps, features)\n",
    "X_train_cnn = np.reshape(X_train.to_numpy(), (X_train.shape[0], X_train.shape[1], 1))\n",
    "X_test_cnn = np.reshape(X_test.to_numpy(), (X_test.shape[0], X_test.shape[1], 1))"
   ]
  },
  {
   "cell_type": "code",
   "execution_count": null,
   "metadata": {},
   "outputs": [
    {
     "name": "stdout",
     "output_type": "stream",
     "text": [
      "Epoch 1/10\n",
      "703/703 [==============================] - 245s 347ms/step - loss: 0.1502 - accuracy: 0.9430 - val_loss: 0.0517 - val_accuracy: 0.9840\n",
      "Epoch 2/10\n",
      "703/703 [==============================] - 306s 435ms/step - loss: 0.0278 - accuracy: 0.9915 - val_loss: 0.0582 - val_accuracy: 0.9819\n",
      "Epoch 3/10\n",
      "703/703 [==============================] - 228s 324ms/step - loss: 0.0120 - accuracy: 0.9970 - val_loss: 0.0496 - val_accuracy: 0.9868\n",
      "Epoch 4/10\n",
      "703/703 [==============================] - 232s 330ms/step - loss: 0.0065 - accuracy: 0.9985 - val_loss: 0.0519 - val_accuracy: 0.9872\n",
      "Epoch 5/10\n",
      "703/703 [==============================] - 220s 312ms/step - loss: 0.0056 - accuracy: 0.9988 - val_loss: 0.0610 - val_accuracy: 0.9858\n",
      "Epoch 6/10\n",
      "703/703 [==============================] - 239s 340ms/step - loss: 0.0045 - accuracy: 0.9988 - val_loss: 0.0511 - val_accuracy: 0.9875\n",
      "Epoch 7/10\n",
      "703/703 [==============================] - 223s 317ms/step - loss: 0.0080 - accuracy: 0.9981 - val_loss: 0.0764 - val_accuracy: 0.9836\n",
      "Epoch 8/10\n",
      "703/703 [==============================] - 224s 319ms/step - loss: 0.0058 - accuracy: 0.9987 - val_loss: 0.0543 - val_accuracy: 0.9875\n",
      "Epoch 9/10\n",
      "703/703 [==============================] - 226s 322ms/step - loss: 0.0047 - accuracy: 0.9989 - val_loss: 0.0348 - val_accuracy: 0.9913\n",
      "Epoch 10/10\n",
      "703/703 [==============================] - 226s 322ms/step - loss: 0.0056 - accuracy: 0.9987 - val_loss: 0.0599 - val_accuracy: 0.9865\n"
     ]
    }
   ],
   "source": [
    "# Define CNN Model with initial parameters\n",
    "def create_initial_cnn():\n",
    "    model = Sequential([\n",
    "        Input(shape=(X_train.shape[1], 1)),  # Input layer\n",
    "        Conv1D(filters=64, kernel_size=3, activation='relu'),\n",
    "        MaxPooling1D(pool_size=2),\n",
    "        Flatten(),\n",
    "        Dense(64, activation='relu'),\n",
    "        Dropout(0.3),\n",
    "        Dense(1, activation='sigmoid')  # Binary classification\n",
    "    ])\n",
    "    model.compile(loss=\"binary_crossentropy\", optimizer=\"adam\", metrics=[\"accuracy\"])\n",
    "    return model\n",
    " \n",
    "# Build and train the model\n",
    "cnn_model = create_initial_cnn()\n",
    "history = cnn_model.fit(X_train_cnn, y_train, validation_data=(X_test_cnn, y_test), \n",
    "                        batch_size=32, epochs=10, verbose=1)"
   ]
  },
  {
   "cell_type": "code",
   "execution_count": null,
   "metadata": {},
   "outputs": [
    {
     "name": "stdout",
     "output_type": "stream",
     "text": [
      "176/176 [==============================] - 12s 65ms/step\n"
     ]
    }
   ],
   "source": [
    "# Predictions\n",
    "cnn_preds = (cnn_model.predict(X_test_cnn) > 0.5).astype(\"int32\")"
   ]
  },
  {
   "cell_type": "code",
   "execution_count": null,
   "metadata": {},
   "outputs": [
    {
     "name": "stdout",
     "output_type": "stream",
     "text": [
      "Initial CNN Model Performance:\n",
      "Accuracy: 0.9864792741505071\n",
      "              precision    recall  f1-score   support\n",
      "\n",
      "           0       1.00      0.97      0.99      2818\n",
      "           1       0.98      1.00      0.99      2803\n",
      "\n",
      "    accuracy                           0.99      5621\n",
      "   macro avg       0.99      0.99      0.99      5621\n",
      "weighted avg       0.99      0.99      0.99      5621\n",
      "\n"
     ]
    }
   ],
   "source": [
    "# Evaluation\n",
    "print(\"Initial CNN Model Performance:\")\n",
    "print(\"Accuracy:\", accuracy_score(y_test, cnn_preds))\n",
    "print(classification_report(y_test, cnn_preds))"
   ]
  },
  {
   "cell_type": "code",
   "execution_count": null,
   "metadata": {},
   "outputs": [
    {
     "data": {
      "image/png": "[encoded data removed]",
      "text/plain": [
       "<Figure size 600x400 with 2 Axes>"
      ]
     },
     "metadata": {},
     "output_type": "display_data"
    }
   ],
   "source": [
    "# Confusion Matrix\n",
    "cnn_cm = confusion_matrix(y_test, cnn_preds)\n",
    "plt.figure(figsize=(6,4))\n",
    "sns.heatmap(cnn_cm, annot=True, fmt=\"d\", cmap=\"Blues\", xticklabels=[\"Non-Fraud\", \"Fraud\"], yticklabels=[\"Non-Fraud\", \"Fraud\"])\n",
    "plt.xlabel(\"Predicted Label\")\n",
    "plt.ylabel(\"True Label\")\n",
    "plt.title(\"Initial 1D CNN Confusion Matrix\")\n",
    "plt.show()"
   ]
  },
  {
   "cell_type": "code",
   "execution_count": null,
   "metadata": {},
   "outputs": [
    {
     "name": "stdout",
     "output_type": "stream",
     "text": [
      "176/176 [==============================] - 11s 61ms/step\n",
      "AUC Score: 0.9983238707792295\n"
     ]
    },
    {
     "data": {
      "image/png": "[encoded data removed]",
      "text/plain": [
       "<Figure size 600x400 with 1 Axes>"
      ]
     },
     "metadata": {},
     "output_type": "display_data"
    }
   ],
   "source": [
    "from sklearn.metrics import roc_auc_score, roc_curve\n",
    "\n",
    "# Get predicted probabilities (not just class labels)\n",
    "cnn_probs = cnn_model.predict(X_test_cnn).ravel()\n",
    "\n",
    "# Calculate ROC AUC score\n",
    "roc_auc = roc_auc_score(y_test, cnn_probs)\n",
    "print(\"AUC Score:\", roc_auc)\n",
    "\n",
    "# Compute ROC curve\n",
    "fpr, tpr, thresholds = roc_curve(y_test, cnn_probs)\n",
    "\n",
    "# Plot ROC Curve\n",
    "plt.figure(figsize=(6, 4))\n",
    "plt.plot(fpr, tpr, color='darkorange', lw=2, label='ROC curve (AUC = %0.4f)' % roc_auc)\n",
    "plt.plot([0, 1], [0, 1], color='navy', lw=2, linestyle='--')\n",
    "plt.xlabel('False Positive Rate')\n",
    "plt.ylabel('True Positive Rate')\n",
    "plt.title('Receiver Operating Characteristic - CNN')\n",
    "plt.legend(loc=\"lower right\")\n",
    "plt.grid()\n",
    "plt.show()\n"
   ]
  },
  {
   "cell_type": "markdown",
   "metadata": {},
   "source": [
    "Hyper Parameter"
   ]
  },
  {
   "cell_type": "markdown",
   "metadata": {},
   "source": [
    "Model 1: Random Forest"
   ]
  },
  {
   "cell_type": "code",
   "execution_count": null,
   "metadata": {},
   "outputs": [],
   "source": [
    "#Tuning Random Forest with RandomizedSearchCV\n",
    "\n",
    "#Define hyperparameter grid\n",
    "param_dist = {\n",
    "    \"n_estimators\": [50, 100, 200],\n",
    "    \"max_depth\": [10, 20, None],\n",
    "    \"min_samples_split\": [2, 5, 10],\n",
    "    \"min_samples_leaf\": [1, 2, 4],\n",
    "    \"max_features\": [\"sqrt\", \"log2\", None],\n",
    "    \"bootstrap\": [True, False]\n",
    "}"
   ]
  },
  {
   "cell_type": "code",
   "execution_count": null,
   "metadata": {},
   "outputs": [
    {
     "name": "stdout",
     "output_type": "stream",
     "text": [
      "Fitting 3 folds for each of 10 candidates, totalling 30 fits\n"
     ]
    },
    {
     "data": {
      "text/html": [
       "<style>#sk-container-id-2 {color: black;}#sk-container-id-2 pre{padding: 0;}#sk-container-id-2 div.sk-toggleable {background-color: white;}#sk-container-id-2 label.sk-toggleable__label {cursor: pointer;display: block;width: 100%;margin-bottom: 0;padding: 0.3em;box-sizing: border-box;text-align: center;}#sk-container-id-2 label.sk-toggleable__label-arrow:before {content: \"▸\";float: left;margin-right: 0.25em;color: #696969;}#sk-container-id-2 label.sk-toggleable__label-arrow:hover:before {color: black;}#sk-container-id-2 div.sk-estimator:hover label.sk-toggleable__label-arrow:before {color: black;}#sk-container-id-2 div.sk-toggleable__content {max-height: 0;max-width: 0;overflow: hidden;text-align: left;background-color: #f0f8ff;}#sk-container-id-2 div.sk-toggleable__content pre {margin: 0.2em;color: black;border-radius: 0.25em;background-color: #f0f8ff;}#sk-container-id-2 input.sk-toggleable__control:checked~div.sk-toggleable__content {max-height: 200px;max-width: 100%;overflow: auto;}#sk-container-id-2 input.sk-toggleable__control:checked~label.sk-toggleable__label-arrow:before {content: \"▾\";}#sk-container-id-2 div.sk-estimator input.sk-toggleable__control:checked~label.sk-toggleable__label {background-color: #d4ebff;}#sk-container-id-2 div.sk-label input.sk-toggleable__control:checked~label.sk-toggleable__label {background-color: #d4ebff;}#sk-container-id-2 input.sk-hidden--visually {border: 0;clip: rect(1px 1px 1px 1px);clip: rect(1px, 1px, 1px, 1px);height: 1px;margin: -1px;overflow: hidden;padding: 0;position: absolute;width: 1px;}#sk-container-id-2 div.sk-estimator {font-family: monospace;background-color: #f0f8ff;border: 1px dotted black;border-radius: 0.25em;box-sizing: border-box;margin-bottom: 0.5em;}#sk-container-id-2 div.sk-estimator:hover {background-color: #d4ebff;}#sk-container-id-2 div.sk-parallel-item::after {content: \"\";width: 100%;border-bottom: 1px solid gray;flex-grow: 1;}#sk-container-id-2 div.sk-label:hover label.sk-toggleable__label {background-color: #d4ebff;}#sk-container-id-2 div.sk-serial::before {content: \"\";position: absolute;border-left: 1px solid gray;box-sizing: border-box;top: 0;bottom: 0;left: 50%;z-index: 0;}#sk-container-id-2 div.sk-serial {display: flex;flex-direction: column;align-items: center;background-color: white;padding-right: 0.2em;padding-left: 0.2em;position: relative;}#sk-container-id-2 div.sk-item {position: relative;z-index: 1;}#sk-container-id-2 div.sk-parallel {display: flex;align-items: stretch;justify-content: center;background-color: white;position: relative;}#sk-container-id-2 div.sk-item::before, #sk-container-id-2 div.sk-parallel-item::before {content: \"\";position: absolute;border-left: 1px solid gray;box-sizing: border-box;top: 0;bottom: 0;left: 50%;z-index: -1;}#sk-container-id-2 div.sk-parallel-item {display: flex;flex-direction: column;z-index: 1;position: relative;background-color: white;}#sk-container-id-2 div.sk-parallel-item:first-child::after {align-self: flex-end;width: 50%;}#sk-container-id-2 div.sk-parallel-item:last-child::after {align-self: flex-start;width: 50%;}#sk-container-id-2 div.sk-parallel-item:only-child::after {width: 0;}#sk-container-id-2 div.sk-dashed-wrapped {border: 1px dashed gray;margin: 0 0.4em 0.5em 0.4em;box-sizing: border-box;padding-bottom: 0.4em;background-color: white;}#sk-container-id-2 div.sk-label label {font-family: monospace;font-weight: bold;display: inline-block;line-height: 1.2em;}#sk-container-id-2 div.sk-label-container {text-align: center;}#sk-container-id-2 div.sk-container {/* jupyter's `normalize.less` sets `[hidden] { display: none; }` but bootstrap.min.css set `[hidden] { display: none !important; }` so we also need the `!important` here to be able to override the default hidden behavior on the sphinx rendered scikit-learn.org. See: https://github.com/scikit-learn/scikit-learn/issues/21755 */display: inline-block !important;position: relative;}#sk-container-id-2 div.sk-text-repr-fallback {display: none;}</style><div id=\"sk-container-id-2\" class=\"sk-top-container\"><div class=\"sk-text-repr-fallback\"><pre>RandomizedSearchCV(cv=3, estimator=RandomForestClassifier(random_state=42),\n",
       "                   n_jobs=7,\n",
       "                   param_distributions={&#x27;bootstrap&#x27;: [True, False],\n",
       "                                        &#x27;max_depth&#x27;: [10, 20, None],\n",
       "                                        &#x27;max_features&#x27;: [&#x27;sqrt&#x27;, &#x27;log2&#x27;, None],\n",
       "                                        &#x27;min_samples_leaf&#x27;: [1, 2, 4],\n",
       "                                        &#x27;min_samples_split&#x27;: [2, 5, 10],\n",
       "                                        &#x27;n_estimators&#x27;: [50, 100, 200]},\n",
       "                   verbose=2)</pre><b>In a Jupyter environment, please rerun this cell to show the HTML representation or trust the notebook. <br />On GitHub, the HTML representation is unable to render, please try loading this page with nbviewer.org.</b></div><div class=\"sk-container\" hidden><div class=\"sk-item sk-dashed-wrapped\"><div class=\"sk-label-container\"><div class=\"sk-label sk-toggleable\"><input class=\"sk-toggleable__control sk-hidden--visually\" id=\"sk-estimator-id-2\" type=\"checkbox\" ><label for=\"sk-estimator-id-2\" class=\"sk-toggleable__label sk-toggleable__label-arrow\">RandomizedSearchCV</label><div class=\"sk-toggleable__content\"><pre>RandomizedSearchCV(cv=3, estimator=RandomForestClassifier(random_state=42),\n",
       "                   n_jobs=7,\n",
       "                   param_distributions={&#x27;bootstrap&#x27;: [True, False],\n",
       "                                        &#x27;max_depth&#x27;: [10, 20, None],\n",
       "                                        &#x27;max_features&#x27;: [&#x27;sqrt&#x27;, &#x27;log2&#x27;, None],\n",
       "                                        &#x27;min_samples_leaf&#x27;: [1, 2, 4],\n",
       "                                        &#x27;min_samples_split&#x27;: [2, 5, 10],\n",
       "                                        &#x27;n_estimators&#x27;: [50, 100, 200]},\n",
       "                   verbose=2)</pre></div></div></div><div class=\"sk-parallel\"><div class=\"sk-parallel-item\"><div class=\"sk-item\"><div class=\"sk-label-container\"><div class=\"sk-label sk-toggleable\"><input class=\"sk-toggleable__control sk-hidden--visually\" id=\"sk-estimator-id-3\" type=\"checkbox\" ><label for=\"sk-estimator-id-3\" class=\"sk-toggleable__label sk-toggleable__label-arrow\">estimator: RandomForestClassifier</label><div class=\"sk-toggleable__content\"><pre>RandomForestClassifier(random_state=42)</pre></div></div></div><div class=\"sk-serial\"><div class=\"sk-item\"><div class=\"sk-estimator sk-toggleable\"><input class=\"sk-toggleable__control sk-hidden--visually\" id=\"sk-estimator-id-4\" type=\"checkbox\" ><label for=\"sk-estimator-id-4\" class=\"sk-toggleable__label sk-toggleable__label-arrow\">RandomForestClassifier</label><div class=\"sk-toggleable__content\"><pre>RandomForestClassifier(random_state=42)</pre></div></div></div></div></div></div></div></div></div></div>"
      ],
      "text/plain": [
       "RandomizedSearchCV(cv=3, estimator=RandomForestClassifier(random_state=42),\n",
       "                   n_jobs=7,\n",
       "                   param_distributions={'bootstrap': [True, False],\n",
       "                                        'max_depth': [10, 20, None],\n",
       "                                        'max_features': ['sqrt', 'log2', None],\n",
       "                                        'min_samples_leaf': [1, 2, 4],\n",
       "                                        'min_samples_split': [2, 5, 10],\n",
       "                                        'n_estimators': [50, 100, 200]},\n",
       "                   verbose=2)"
      ]
     },
     "metadata": {},
     "output_type": "display_data"
    }
   ],
   "source": [
    "#Initialize model\n",
    "rf = RandomForestClassifier(random_state=42)\n",
    "\n",
    "#Randomized Search CV\n",
    "rf_random = RandomizedSearchCV(rf, param_distributions=param_dist, n_iter=10, cv=3, verbose=2, n_jobs=7)\n",
    "rf_random.fit(X_train, y_train)"
   ]
  },
  {
   "cell_type": "code",
   "execution_count": null,
   "metadata": {},
   "outputs": [
    {
     "name": "stdout",
     "output_type": "stream",
     "text": [
      "Best RF Params: {'n_estimators': 100, 'min_samples_split': 5, 'min_samples_leaf': 4, 'max_features': 'sqrt', 'max_depth': 20, 'bootstrap': False}\n"
     ]
    }
   ],
   "source": [
    "#Show best parameters\n",
    "print(\"Best RF Params:\", rf_random.best_params_)"
   ]
  },
  {
   "cell_type": "markdown",
   "metadata": {},
   "source": [
    "Rebuild Model for Random Forest"
   ]
  },
  {
   "cell_type": "code",
   "execution_count": null,
   "metadata": {},
   "outputs": [],
   "source": [
    "#Random Forest Model with Best Parameters\n",
    "rf_model = RandomForestClassifier(\n",
    "    n_estimators=100, \n",
    "    min_samples_split=5, \n",
    "    min_samples_leaf=4, \n",
    "    max_features=\"sqrt\", \n",
    "    max_depth=20, \n",
    "    bootstrap=False, \n",
    "    random_state=42\n",
    ")\n",
    "rf_model.fit(X_train, y_train)\n",
    "\n",
    "#Predict\n",
    "rf_preds = rf_model.predict(X_test)"
   ]
  },
  {
   "cell_type": "code",
   "execution_count": null,
   "metadata": {},
   "outputs": [
    {
     "name": "stdout",
     "output_type": "stream",
     "text": [
      "Optimized Random Forest Model Performance:\n",
      "Accuracy: 0.9950186799501868\n",
      "              precision    recall  f1-score   support\n",
      "\n",
      "           0       0.99      1.00      1.00      2811\n",
      "           1       1.00      0.99      0.99      2810\n",
      "\n",
      "    accuracy                           1.00      5621\n",
      "   macro avg       1.00      1.00      1.00      5621\n",
      "weighted avg       1.00      1.00      1.00      5621\n",
      "\n"
     ]
    }
   ],
   "source": [
    "#Evaluate\n",
    "print(\"Optimized Random Forest Model Performance:\")\n",
    "print(\"Accuracy:\", accuracy_score(y_test, rf_preds))\n",
    "print(classification_report(y_test, rf_preds))"
   ]
  },
  {
   "cell_type": "code",
   "execution_count": null,
   "metadata": {},
   "outputs": [
    {
     "data": {
      "image/png": "[encoded data removed]",
      "text/plain": [
       "<Figure size 600x400 with 2 Axes>"
      ]
     },
     "metadata": {},
     "output_type": "display_data"
    }
   ],
   "source": [
    "#Confusion Matrix for Random Forest\n",
    "rf_cm = confusion_matrix(y_test, rf_preds)\n",
    "\n",
    "plt.figure(figsize=(6,4))\n",
    "sns.heatmap(rf_cm, annot=True, fmt=\"d\", cmap=\"Blues\", xticklabels=[\"Non-Fraud\", \"Fraud\"], yticklabels=[\"Non-Fraud\", \"Fraud\"])\n",
    "plt.xlabel(\"Predicted Label\")\n",
    "plt.ylabel(\"True Label\")\n",
    "plt.title(\"Optimized Random Forest Confusion Matrix\")\n",
    "plt.show()"
   ]
  },
  {
   "cell_type": "code",
   "execution_count": null,
   "metadata": {},
   "outputs": [
    {
     "data": {
      "image/png": "[encoded data removed]",
      "text/plain": [
       "<Figure size 600x400 with 1 Axes>"
      ]
     },
     "metadata": {},
     "output_type": "display_data"
    },
    {
     "name": "stdout",
     "output_type": "stream",
     "text": [
      "AUC-ROC Score: 0.9994682177667551\n"
     ]
    }
   ],
   "source": [
    "#Get probability scores for the positive class (Fraud)\n",
    "rf_probs = rf_model.predict_proba(X_test)[:, 1]\n",
    "\n",
    "#Compute AUC-ROC\n",
    "fpr, tpr, _ = roc_curve(y_test, rf_probs)\n",
    "auc_score = roc_auc_score(y_test, rf_probs)\n",
    "\n",
    "#Plot ROC Curve\n",
    "plt.figure(figsize=(6, 4))\n",
    "plt.plot(fpr, tpr, color='blue', label=f'Random Forest (AUC = {auc_score:.4f})')\n",
    "plt.plot([0, 1], [0, 1], linestyle='--', color='gray')  # Diagonal reference line\n",
    "plt.xlabel(\"False Positive Rate\")\n",
    "plt.ylabel(\"True Positive Rate\")\n",
    "plt.title(\"ROC Curve for Optimized Random Forest\")\n",
    "plt.legend()\n",
    "plt.show()\n",
    "\n",
    "#Print AUC Score\n",
    "print(\"AUC-ROC Score:\", auc_score)"
   ]
  },
  {
   "cell_type": "code",
   "execution_count": null,
   "metadata": {},
   "outputs": [],
   "source": [
    "plt.show()\n",
    "\n",
    "#Print AUC Score\n",
    "print(\"AUC-ROC Score:\", auc_score)"
   ]
  },
  {
   "cell_type": "markdown",
   "metadata": {},
   "source": [
    "Model 2: AdaBoost"
   ]
  },
  {
   "cell_type": "code",
   "execution_count": null,
   "metadata": {},
   "outputs": [],
   "source": [
    "#Define parameter grid\n",
    "param_grid = {\n",
    "    'n_estimators': [50, 100, 200],\n",
    "    'learning_rate': [0.01, 0.1, 1.0],\n",
    "    'algorithm': ['SAMME', 'SAMME.R']\n",
    "}"
   ]
  },
  {
   "cell_type": "code",
   "execution_count": null,
   "metadata": {},
   "outputs": [
    {
     "name": "stdout",
     "output_type": "stream",
     "text": [
      "Fitting 3 folds for each of 18 candidates, totalling 54 fits\n"
     ]
    }
   ],
   "source": [
    "#Initialize AdaBoost model\n",
    "adaboost_wrapper = AdaBoostClassifier(random_state=42)\n",
    "\n",
    "#Perform Grid Search\n",
    "grid = GridSearchCV(estimator=adaboost_wrapper, param_grid=param_grid, cv=3, verbose=1, \n",
    "                    n_jobs=7, error_score='raise')\n",
    "\n",
    "grid_result = grid.fit(X_train, y_train)"
   ]
  },
  {
   "cell_type": "code",
   "execution_count": null,
   "metadata": {},
   "outputs": [],
   "source": [
    "#Print best parameters\n",
    "print(\"Best AdaBoost Params:\", grid_result.best_params_)"
   ]
  },
  {
   "cell_type": "markdown",
   "metadata": {},
   "source": [
    "Rebuild Model for AdaBoost"
   ]
  },
  {
   "cell_type": "code",
   "execution_count": null,
   "metadata": {},
   "outputs": [],
   "source": [
    "#Rebuild AdaBoost model with best parameters\n",
    "optimized_adaboost = AdaBoostClassifier(\n",
    "    algorithm='SAMME.R',\n",
    "    learning_rate=1.0,\n",
    "    n_estimators=200,\n",
    "    random_state=42\n",
    ")\n",
    "\n",
    "#Train the optimized model\n",
    "optimized_adaboost.fit(X_train, y_train)\n",
    "\n",
    "#Make predictions\n",
    "optimized_adaboost_preds = optimized_adaboost.predict(X_test)"
   ]
  },
  {
   "cell_type": "code",
   "execution_count": null,
   "metadata": {},
   "outputs": [
    {
     "name": "stdout",
     "output_type": "stream",
     "text": [
      "Optimized AdaBoost Model Performance:\n",
      "Accuracy: 0.9581924924390678\n",
      "              precision    recall  f1-score   support\n",
      "\n",
      "           0       0.96      0.95      0.96      2811\n",
      "           1       0.95      0.97      0.96      2810\n",
      "\n",
      "    accuracy                           0.96      5621\n",
      "   macro avg       0.96      0.96      0.96      5621\n",
      "weighted avg       0.96      0.96      0.96      5621\n",
      "\n"
     ]
    }
   ],
   "source": [
    "#Evaluate the optimized AdaBoost Model\n",
    "print(\"Optimized AdaBoost Model Performance:\")\n",
    "print(\"Accuracy:\", accuracy_score(y_test, optimized_adaboost_preds))\n",
    "print(classification_report(y_test, optimized_adaboost_preds))"
   ]
  },
  {
   "cell_type": "code",
   "execution_count": null,
   "metadata": {},
   "outputs": [
    {
     "data": {
      "image/png": "[encoded data removed]",
      "text/plain": [
       "<Figure size 600x400 with 2 Axes>"
      ]
     },
     "metadata": {},
     "output_type": "display_data"
    }
   ],
   "source": [
    "#Confusion Matrix for AdaBoost Model\n",
    "optimized_adaboost_cm = confusion_matrix(y_test, optimized_adaboost_preds)\n",
    "plt.figure(figsize=(6,4))\n",
    "sns.heatmap(optimized_adaboost_cm, annot=True, fmt=\"d\", cmap=\"Blues\", \n",
    "            xticklabels=[\"Non-Fraud\", \"Fraud\"], yticklabels=[\"Non-Fraud\", \"Fraud\"])\n",
    "plt.xlabel(\"Predicted Label\")\n",
    "plt.ylabel(\"True Label\")\n",
    "plt.title(\"Optimized AdaBoost Confusion Matrix\")\n",
    "plt.show()"
   ]
  },
  {
   "cell_type": "code",
   "execution_count": null,
   "metadata": {},
   "outputs": [
    {
     "data": {
      "image/png": "[encoded data removed]",
      "text/plain": [
       "<Figure size 600x400 with 1 Axes>"
      ]
     },
     "metadata": {},
     "output_type": "display_data"
    },
    {
     "name": "stdout",
     "output_type": "stream",
     "text": [
      "AUC-ROC Score: 0.9922608942246461\n"
     ]
    }
   ],
   "source": [
    "#Get probability scores for the positive class (Fraud)\n",
    "optimized_adaboost_probs = optimized_adaboost.predict_proba(X_test)[:, 1]\n",
    "\n",
    "# Compute AUC-ROC\n",
    "fpr, tpr, _ = roc_curve(y_test, optimized_adaboost_probs)\n",
    "auc_score = roc_auc_score(y_test, optimized_adaboost_probs)\n",
    "\n",
    "#Plot ROC Curve\n",
    "plt.figure(figsize=(6, 4))\n",
    "plt.plot(fpr, tpr, color='blue', label=f'AdaBoost (AUC = {auc_score:.4f})')\n",
    "plt.plot([0, 1], [0, 1], linestyle='--', color='gray')  # Diagonal reference line\n",
    "plt.xlabel(\"False Positive Rate\")\n",
    "plt.ylabel(\"True Positive Rate\")\n",
    "plt.title(\"ROC Curve for Optimized AdaBoost\")\n",
    "plt.legend()\n",
    "plt.show()\n",
    "\n",
    "#Print AUC Score\n",
    "print(\"AUC-ROC Score:\", auc_score)"
   ]
  },
  {
   "cell_type": "markdown",
   "metadata": {},
   "source": [
    "Model 3: Support Vector Machine"
   ]
  },
  {
   "cell_type": "code",
   "execution_count": null,
   "metadata": {},
   "outputs": [
    {
     "name": "stdout",
     "output_type": "stream",
     "text": [
      "Fitting 3 folds for each of 4 candidates, totalling 12 fits\n",
      "Best Parameters: {'C': 10, 'gamma': 'scale', 'kernel': 'rbf'}\n"
     ]
    }
   ],
   "source": [
    "#hyper tuning\n",
    "\n",
    "param_grid = {\n",
    "    'C': [ 1, 10],  # Regularization parameter\n",
    "    'kernel': ['linear', 'rbf'],  # Kernel types\n",
    "    'gamma': ['scale']  # Gamma values for 'rbf' kernel\n",
    "}\n",
    " \n",
    "# Step 7: Initialize GridSearchCV with 3-fold cross-validation\n",
    "grid_search = GridSearchCV(SVC(), param_grid, cv=3, n_jobs=-1, verbose=2)\n",
    " \n",
    "# Step 8: Fit GridSearchCV on the training data\n",
    "grid_search.fit(X_train, y_train)\n",
    " \n",
    "# Step 9: Get the best parameters and evaluate the model\n",
    "print(\"Best Parameters:\", grid_search.best_params_)\n",
    "best_svm_model = grid_search.best_estimator_"
   ]
  },
  {
   "cell_type": "markdown",
   "metadata": {},
   "source": [
    "Rebuild Model for SVM"
   ]
  },
  {
   "cell_type": "code",
   "execution_count": null,
   "metadata": {},
   "outputs": [
    {
     "name": "stdout",
     "output_type": "stream",
     "text": [
      "Accuracy of the best model: 0.9991104785625333\n",
      "Classification Report of the best model:\n",
      "               precision    recall  f1-score   support\n",
      "\n",
      "           0       1.00      1.00      1.00      2818\n",
      "           1       1.00      1.00      1.00      2803\n",
      "\n",
      "    accuracy                           1.00      5621\n",
      "   macro avg       1.00      1.00      1.00      5621\n",
      "weighted avg       1.00      1.00      1.00      5621\n",
      "\n"
     ]
    }
   ],
   "source": [
    "# Use the best parameters found from GridSearchCV\n",
    "best_svm_model = SVC(C=10, gamma='scale', kernel='rbf')\n",
    "\n",
    "#  Train the model on the training data\n",
    "best_svm_model.fit(X_train, y_train)  \n",
    "\n",
    "#  Make predictions on the test data\n",
    "y_pred_best = best_svm_model.predict(X_test)  \n",
    "\n",
    "#  Evaluate the model's performance\n",
    "print(\"Accuracy of the best model:\", accuracy_score(y_test, y_pred_best))  \n",
    "print(\"Classification Report of the best model:\\n\", classification_report(y_test, y_pred_best))  \n"
   ]
  },
  {
   "cell_type": "markdown",
   "metadata": {},
   "source": [
    "Confusion Matrix Generation"
   ]
  },
  {
   "cell_type": "code",
   "execution_count": null,
   "metadata": {},
   "outputs": [
    {
     "data": {
      "image/png": "[encoded data removed]",
      "text/plain": [
       "<Figure size 640x480 with 2 Axes>"
      ]
     },
     "metadata": {},
     "output_type": "display_data"
    }
   ],
   "source": [
    "# Generate the confusion matrix  \n",
    "cm = confusion_matrix(y_test, y_pred_best)\n",
    "\n",
    "# Display the confusion matrix\n",
    "disp = ConfusionMatrixDisplay(confusion_matrix=cm, display_labels=['Class 0', 'Class 1'])\n",
    "disp.plot(cmap=plt.cm.Blues)\n",
    "plt.show()"
   ]
  },
  {
   "cell_type": "markdown",
   "metadata": {},
   "source": [
    "Optimized ROC AUC for SVM"
   ]
  },
  {
   "cell_type": "code",
   "execution_count": null,
   "metadata": {},
   "outputs": [
    {
     "data": {
      "image/png": "[encoded data removed]",
      "text/plain": [
       "<Figure size 800x600 with 1 Axes>"
      ]
     },
     "metadata": {},
     "output_type": "display_data"
    }
   ],
   "source": [
    "# If y_test is not already binary (e.g., 0 and 1), binarize it\n",
    "# y_test = label_binarize(y_test, classes=[0, 1]).ravel()\n",
    "\n",
    "# Get probability estimates for ROC (SVC requires probability=True)\n",
    "best_svm_model_prob = SVC(C=10, gamma='scale', kernel='rbf', probability=True)\n",
    "best_svm_model_prob.fit(X_train, y_train)\n",
    "\n",
    "# Get prediction probabilities for the positive class (class 1)\n",
    "y_prob = best_svm_model_prob.predict_proba(X_test)[:, 1]\n",
    "\n",
    "# Compute ROC curve and AUC score\n",
    "fpr, tpr, thresholds = roc_curve(y_test, y_prob)\n",
    "roc_auc = auc(fpr, tpr)\n",
    "\n",
    "# Plot ROC curve\n",
    "plt.figure(figsize=(8, 6))\n",
    "plt.plot(fpr, tpr, color='darkorange', lw=2, label='ROC Curve (AUC = %0.2f)' % roc_auc)\n",
    "plt.plot([0, 1], [0, 1], color='navy', lw=2, linestyle='--')\n",
    "plt.xlabel('False Positive Rate')\n",
    "plt.ylabel('True Positive Rate')\n",
    "plt.title('Receiver Operating Characteristic (ROC) Curve')\n",
    "plt.legend(loc='lower right')\n",
    "plt.grid()\n",
    "plt.show()\n"
   ]
  },
  {
   "cell_type": "markdown",
   "metadata": {},
   "source": [
    "Model 4: Convolutional Neural Network"
   ]
  },
  {
   "cell_type": "code",
   "execution_count": null,
   "metadata": {},
   "outputs": [
    {
     "name": "stdout",
     "output_type": "stream",
     "text": [
      "Fitting 3 folds for each of 5 candidates, totalling 15 fits\n",
      "Epoch 1/5\n",
      "937/937 [==============================] - 225s 238ms/step - loss: 0.1569 - accuracy: 0.9406\n",
      "Epoch 2/5\n",
      "937/937 [==============================] - 224s 239ms/step - loss: 0.0286 - accuracy: 0.9919\n",
      "Epoch 3/5\n",
      "937/937 [==============================] - 225s 240ms/step - loss: 0.0110 - accuracy: 0.9971\n",
      "Epoch 4/5\n",
      "937/937 [==============================] - 234s 249ms/step - loss: 0.0081 - accuracy: 0.9982\n",
      "Epoch 5/5\n",
      "937/937 [==============================] - 222s 236ms/step - loss: 0.0094 - accuracy: 0.9973\n",
      "469/469 [==============================] - 15s 32ms/step\n",
      "[CV] END batch_size=16, epochs=5, model__dropout_rate=0.2, model__optimizer=adam; total time=19.1min\n",
      "Epoch 1/5\n",
      "937/937 [==============================] - 224s 238ms/step - loss: 0.1583 - accuracy: 0.9402\n",
      "Epoch 2/5\n",
      "937/937 [==============================] - 222s 237ms/step - loss: 0.0251 - accuracy: 0.9929\n",
      "Epoch 3/5\n",
      "937/937 [==============================] - 225s 241ms/step - loss: 0.0107 - accuracy: 0.9977\n",
      "Epoch 4/5\n",
      "937/937 [==============================] - 226s 241ms/step - loss: 0.0067 - accuracy: 0.9985\n",
      "Epoch 5/5\n",
      "937/937 [==============================] - 227s 243ms/step - loss: 0.0072 - accuracy: 0.9982\n",
      "469/469 [==============================] - 17s 35ms/step\n",
      "[CV] END batch_size=16, epochs=5, model__dropout_rate=0.2, model__optimizer=adam; total time=19.1min\n",
      "Epoch 1/5\n",
      "937/937 [==============================] - 226s 240ms/step - loss: 0.1681 - accuracy: 0.9346\n",
      "Epoch 2/5\n",
      "937/937 [==============================] - 224s 239ms/step - loss: 0.0274 - accuracy: 0.9916\n",
      "Epoch 3/5\n",
      "937/937 [==============================] - 224s 239ms/step - loss: 0.0105 - accuracy: 0.9976\n",
      "Epoch 4/5\n",
      "937/937 [==============================] - 225s 240ms/step - loss: 0.0069 - accuracy: 0.9986\n",
      "Epoch 5/5\n",
      "937/937 [==============================] - 226s 242ms/step - loss: 0.0079 - accuracy: 0.9983\n",
      "469/469 [==============================] - 16s 35ms/step\n",
      "[CV] END batch_size=16, epochs=5, model__dropout_rate=0.2, model__optimizer=adam; total time=19.1min\n",
      "Epoch 1/5\n",
      "937/937 [==============================] - 195s 208ms/step - loss: 0.2187 - accuracy: 0.9109\n",
      "Epoch 2/5\n",
      "937/937 [==============================] - 197s 210ms/step - loss: 0.0577 - accuracy: 0.9811\n",
      "Epoch 3/5\n",
      "937/937 [==============================] - 194s 207ms/step - loss: 0.0241 - accuracy: 0.9935\n",
      "Epoch 4/5\n",
      "937/937 [==============================] - 195s 208ms/step - loss: 0.0108 - accuracy: 0.9976\n",
      "Epoch 5/5\n",
      "937/937 [==============================] - 195s 208ms/step - loss: 0.0083 - accuracy: 0.9979\n",
      "469/469 [==============================] - 17s 35ms/step\n",
      "[CV] END batch_size=16, epochs=5, model__dropout_rate=0.2, model__optimizer=rmsprop; total time=16.6min\n",
      "Epoch 1/5\n",
      "937/937 [==============================] - 200s 212ms/step - loss: 0.2233 - accuracy: 0.9068\n",
      "Epoch 2/5\n",
      "937/937 [==============================] - 198s 211ms/step - loss: 0.0541 - accuracy: 0.9838\n",
      "Epoch 3/5\n",
      "937/937 [==============================] - 198s 211ms/step - loss: 0.0184 - accuracy: 0.9951\n",
      "Epoch 4/5\n",
      "937/937 [==============================] - 198s 211ms/step - loss: 0.0086 - accuracy: 0.9978\n",
      "Epoch 5/5\n",
      "937/937 [==============================] - 203s 216ms/step - loss: 0.0052 - accuracy: 0.9988\n",
      "469/469 [==============================] - 16s 35ms/step\n",
      "[CV] END batch_size=16, epochs=5, model__dropout_rate=0.2, model__optimizer=rmsprop; total time=16.9min\n",
      "Epoch 1/5\n",
      "937/937 [==============================] - 195s 207ms/step - loss: 0.3151 - accuracy: 0.8543\n",
      "Epoch 2/5\n",
      "937/937 [==============================] - 194s 207ms/step - loss: 0.0820 - accuracy: 0.9726\n",
      "Epoch 3/5\n",
      "937/937 [==============================] - 195s 208ms/step - loss: 0.0391 - accuracy: 0.9889\n",
      "Epoch 4/5\n",
      "937/937 [==============================] - 213s 227ms/step - loss: 0.0189 - accuracy: 0.9949\n",
      "Epoch 5/5\n",
      "937/937 [==============================] - 220s 235ms/step - loss: 0.0096 - accuracy: 0.9975\n",
      "469/469 [==============================] - 15s 32ms/step\n",
      "[CV] END batch_size=16, epochs=5, model__dropout_rate=0.2, model__optimizer=rmsprop; total time=17.2min\n",
      "Epoch 1/10\n",
      "937/937 [==============================] - 216s 230ms/step - loss: 0.2239 - accuracy: 0.9084\n",
      "Epoch 2/10\n",
      "937/937 [==============================] - 210s 224ms/step - loss: 0.0588 - accuracy: 0.9814\n",
      "Epoch 3/10\n",
      "937/937 [==============================] - 191s 204ms/step - loss: 0.0245 - accuracy: 0.9929\n",
      "Epoch 4/10\n",
      "937/937 [==============================] - 191s 204ms/step - loss: 0.0118 - accuracy: 0.9971\n",
      "Epoch 5/10\n",
      "937/937 [==============================] - 188s 201ms/step - loss: 0.0095 - accuracy: 0.9984\n",
      "Epoch 6/10\n",
      "937/937 [==============================] - 188s 201ms/step - loss: 0.0079 - accuracy: 0.9983\n",
      "Epoch 7/10\n",
      "937/937 [==============================] - 190s 203ms/step - loss: 0.0071 - accuracy: 0.9988\n",
      "Epoch 8/10\n",
      "937/937 [==============================] - 188s 201ms/step - loss: 0.0050 - accuracy: 0.9990\n",
      "Epoch 9/10\n",
      "937/937 [==============================] - 192s 205ms/step - loss: 0.0049 - accuracy: 0.9990\n",
      "Epoch 10/10\n",
      "937/937 [==============================] - 188s 200ms/step - loss: 0.0064 - accuracy: 0.9988\n",
      "469/469 [==============================] - 15s 32ms/step\n",
      "[CV] END batch_size=16, epochs=10, model__dropout_rate=0.2, model__optimizer=rmsprop; total time=32.7min\n",
      "Epoch 1/10\n",
      "937/937 [==============================] - 204s 217ms/step - loss: 0.2334 - accuracy: 0.9060\n",
      "Epoch 2/10\n",
      "937/937 [==============================] - 200s 213ms/step - loss: 0.0636 - accuracy: 0.9801\n",
      "Epoch 3/10\n",
      "937/937 [==============================] - 191s 204ms/step - loss: 0.0274 - accuracy: 0.9927\n",
      "Epoch 4/10\n",
      "937/937 [==============================] - 193s 206ms/step - loss: 0.0130 - accuracy: 0.9965\n",
      "Epoch 5/10\n",
      "937/937 [==============================] - 192s 205ms/step - loss: 0.0073 - accuracy: 0.9979\n",
      "Epoch 6/10\n",
      "937/937 [==============================] - 191s 204ms/step - loss: 0.0048 - accuracy: 0.9989\n",
      "Epoch 7/10\n",
      "937/937 [==============================] - 191s 204ms/step - loss: 0.0052 - accuracy: 0.9989\n",
      "Epoch 8/10\n",
      "937/937 [==============================] - 191s 203ms/step - loss: 0.0033 - accuracy: 0.9993\n",
      "Epoch 9/10\n",
      "937/937 [==============================] - 192s 205ms/step - loss: 0.0040 - accuracy: 0.9994\n",
      "Epoch 10/10\n",
      "937/937 [==============================] - 199s 212ms/step - loss: 0.0030 - accuracy: 0.9994\n",
      "469/469 [==============================] - 17s 35ms/step\n",
      "[CV] END batch_size=16, epochs=10, model__dropout_rate=0.2, model__optimizer=rmsprop; total time=32.7min\n",
      "Epoch 1/10\n",
      "937/937 [==============================] - 192s 204ms/step - loss: 0.2167 - accuracy: 0.9127\n",
      "Epoch 2/10\n",
      "937/937 [==============================] - 202s 216ms/step - loss: 0.0574 - accuracy: 0.9812\n",
      "Epoch 3/10\n",
      "937/937 [==============================] - 188s 201ms/step - loss: 0.0246 - accuracy: 0.9925\n",
      "Epoch 4/10\n",
      "937/937 [==============================] - 203s 217ms/step - loss: 0.0110 - accuracy: 0.9971\n",
      "Epoch 5/10\n",
      "937/937 [==============================] - 204s 218ms/step - loss: 0.0085 - accuracy: 0.9982\n",
      "Epoch 6/10\n",
      "937/937 [==============================] - 206s 220ms/step - loss: 0.0063 - accuracy: 0.9987\n",
      "Epoch 7/10\n",
      "937/937 [==============================] - 202s 216ms/step - loss: 0.0057 - accuracy: 0.9988\n",
      "Epoch 8/10\n",
      "937/937 [==============================] - 199s 213ms/step - loss: 0.0045 - accuracy: 0.9990\n",
      "Epoch 9/10\n",
      "937/937 [==============================] - 200s 213ms/step - loss: 0.0042 - accuracy: 0.9992\n",
      "Epoch 10/10\n",
      "937/937 [==============================] - 198s 211ms/step - loss: 0.0036 - accuracy: 0.9993\n",
      "469/469 [==============================] - 17s 36ms/step\n",
      "[CV] END batch_size=16, epochs=10, model__dropout_rate=0.2, model__optimizer=rmsprop; total time=33.6min\n",
      "Epoch 1/10\n",
      "469/469 [==============================] - 148s 314ms/step - loss: 0.1797 - accuracy: 0.9321\n",
      "Epoch 2/10\n",
      "469/469 [==============================] - 147s 313ms/step - loss: 0.0347 - accuracy: 0.9906\n",
      "Epoch 3/10\n",
      "469/469 [==============================] - 147s 313ms/step - loss: 0.0144 - accuracy: 0.9960\n",
      "Epoch 4/10\n",
      "469/469 [==============================] - 147s 314ms/step - loss: 0.0095 - accuracy: 0.9980\n",
      "Epoch 5/10\n",
      "469/469 [==============================] - 147s 314ms/step - loss: 0.0050 - accuracy: 0.9988\n",
      "Epoch 6/10\n",
      "469/469 [==============================] - 148s 316ms/step - loss: 0.0074 - accuracy: 0.9987\n",
      "Epoch 7/10\n",
      "469/469 [==============================] - 147s 313ms/step - loss: 0.0081 - accuracy: 0.9977\n",
      "Epoch 8/10\n",
      "469/469 [==============================] - 147s 314ms/step - loss: 0.0086 - accuracy: 0.9979\n",
      "Epoch 9/10\n",
      "469/469 [==============================] - 147s 313ms/step - loss: 0.0065 - accuracy: 0.9984\n",
      "Epoch 10/10\n",
      "469/469 [==============================] - 147s 314ms/step - loss: 0.0070 - accuracy: 0.9985\n",
      "235/235 [==============================] - 15s 64ms/step\n",
      "[CV] END batch_size=32, epochs=10, model__dropout_rate=0.3, model__optimizer=adam; total time=24.8min\n",
      "Epoch 1/10\n",
      "469/469 [==============================] - 147s 312ms/step - loss: 0.1816 - accuracy: 0.9321\n",
      "Epoch 2/10\n",
      "469/469 [==============================] - 146s 312ms/step - loss: 0.0410 - accuracy: 0.9873\n",
      "Epoch 3/10\n",
      "469/469 [==============================] - 146s 312ms/step - loss: 0.0131 - accuracy: 0.9971\n",
      "Epoch 4/10\n",
      "469/469 [==============================] - 147s 314ms/step - loss: 0.0074 - accuracy: 0.9981\n",
      "Epoch 5/10\n",
      "469/469 [==============================] - 147s 314ms/step - loss: 0.0057 - accuracy: 0.9987\n",
      "Epoch 6/10\n",
      "469/469 [==============================] - 148s 316ms/step - loss: 0.0051 - accuracy: 0.9985\n",
      "Epoch 7/10\n",
      "469/469 [==============================] - 148s 315ms/step - loss: 0.0044 - accuracy: 0.9989\n",
      "Epoch 8/10\n",
      "469/469 [==============================] - 147s 313ms/step - loss: 0.0045 - accuracy: 0.9991\n",
      "Epoch 9/10\n",
      "469/469 [==============================] - 146s 311ms/step - loss: 0.0098 - accuracy: 0.9971\n",
      "Epoch 10/10\n",
      "469/469 [==============================] - 146s 312ms/step - loss: 0.0050 - accuracy: 0.9989\n",
      "235/235 [==============================] - 15s 65ms/step\n",
      "[CV] END batch_size=32, epochs=10, model__dropout_rate=0.3, model__optimizer=adam; total time=24.8min\n",
      "Epoch 1/10\n",
      "469/469 [==============================] - 147s 312ms/step - loss: 0.1780 - accuracy: 0.9324\n",
      "Epoch 2/10\n",
      "469/469 [==============================] - 146s 312ms/step - loss: 0.0342 - accuracy: 0.9908\n",
      "Epoch 3/10\n",
      "469/469 [==============================] - 147s 313ms/step - loss: 0.0124 - accuracy: 0.9973\n",
      "Epoch 4/10\n",
      "469/469 [==============================] - 147s 313ms/step - loss: 0.0091 - accuracy: 0.9978\n",
      "Epoch 5/10\n",
      "469/469 [==============================] - 146s 312ms/step - loss: 0.0053 - accuracy: 0.9989\n",
      "Epoch 6/10\n",
      "469/469 [==============================] - 147s 313ms/step - loss: 0.0047 - accuracy: 0.9991\n",
      "Epoch 7/10\n",
      "469/469 [==============================] - 147s 313ms/step - loss: 0.0057 - accuracy: 0.9989\n",
      "Epoch 8/10\n",
      "469/469 [==============================] - 146s 312ms/step - loss: 0.0049 - accuracy: 0.9987\n",
      "Epoch 9/10\n",
      "469/469 [==============================] - 147s 313ms/step - loss: 0.0040 - accuracy: 0.9993\n",
      "Epoch 10/10\n",
      "469/469 [==============================] - 147s 314ms/step - loss: 0.0045 - accuracy: 0.9989\n",
      "235/235 [==============================] - 15s 66ms/step\n",
      "[CV] END batch_size=32, epochs=10, model__dropout_rate=0.3, model__optimizer=adam; total time=24.8min\n",
      "Epoch 1/10\n",
      "469/469 [==============================] - 134s 284ms/step - loss: 0.2890 - accuracy: 0.8796\n",
      "Epoch 2/10\n",
      "469/469 [==============================] - 132s 281ms/step - loss: 0.0784 - accuracy: 0.9741\n",
      "Epoch 3/10\n",
      "469/469 [==============================] - 132s 281ms/step - loss: 0.0353 - accuracy: 0.9904\n",
      "Epoch 4/10\n",
      "469/469 [==============================] - 131s 280ms/step - loss: 0.0160 - accuracy: 0.9959\n",
      "Epoch 5/10\n",
      "469/469 [==============================] - 131s 280ms/step - loss: 0.0096 - accuracy: 0.9984\n",
      "Epoch 6/10\n",
      "469/469 [==============================] - 132s 281ms/step - loss: 0.0078 - accuracy: 0.9987\n",
      "Epoch 7/10\n",
      "469/469 [==============================] - 132s 280ms/step - loss: 0.0052 - accuracy: 0.9989\n",
      "Epoch 8/10\n",
      "469/469 [==============================] - 132s 282ms/step - loss: 0.0051 - accuracy: 0.9989\n",
      "Epoch 9/10\n",
      "469/469 [==============================] - 132s 282ms/step - loss: 0.0050 - accuracy: 0.9987\n",
      "Epoch 10/10\n",
      "469/469 [==============================] - 131s 280ms/step - loss: 0.0056 - accuracy: 0.9987\n",
      "235/235 [==============================] - 16s 66ms/step\n",
      "[CV] END batch_size=32, epochs=10, model__dropout_rate=0.2, model__optimizer=rmsprop; total time=22.3min\n",
      "Epoch 1/10\n",
      "469/469 [==============================] - 133s 281ms/step - loss: 0.2760 - accuracy: 0.8858\n",
      "Epoch 2/10\n",
      "469/469 [==============================] - 132s 282ms/step - loss: 0.0789 - accuracy: 0.9744\n",
      "Epoch 3/10\n",
      "469/469 [==============================] - 132s 282ms/step - loss: 0.0348 - accuracy: 0.9902\n",
      "Epoch 4/10\n",
      "469/469 [==============================] - 132s 281ms/step - loss: 0.0145 - accuracy: 0.9965\n",
      "Epoch 5/10\n",
      "469/469 [==============================] - 133s 283ms/step - loss: 0.0082 - accuracy: 0.9984\n",
      "Epoch 6/10\n",
      "469/469 [==============================] - 134s 285ms/step - loss: 0.0047 - accuracy: 0.9988\n",
      "Epoch 7/10\n",
      "469/469 [==============================] - 132s 282ms/step - loss: 0.0036 - accuracy: 0.9991\n",
      "Epoch 8/10\n",
      "469/469 [==============================] - 132s 281ms/step - loss: 0.0036 - accuracy: 0.9991\n",
      "Epoch 9/10\n",
      "469/469 [==============================] - 132s 281ms/step - loss: 0.0021 - accuracy: 0.9995\n",
      "Epoch 10/10\n",
      "469/469 [==============================] - 132s 281ms/step - loss: 0.0021 - accuracy: 0.9996\n",
      "235/235 [==============================] - 16s 67ms/step\n",
      "[CV] END batch_size=32, epochs=10, model__dropout_rate=0.2, model__optimizer=rmsprop; total time=22.3min\n",
      "Epoch 1/10\n",
      "469/469 [==============================] - 132s 280ms/step - loss: 0.2782 - accuracy: 0.8846\n",
      "Epoch 2/10\n",
      "469/469 [==============================] - 131s 280ms/step - loss: 0.0777 - accuracy: 0.9747\n",
      "Epoch 3/10\n",
      "469/469 [==============================] - 133s 284ms/step - loss: 0.0379 - accuracy: 0.9888\n",
      "Epoch 4/10\n",
      "469/469 [==============================] - 131s 280ms/step - loss: 0.0177 - accuracy: 0.9951\n",
      "Epoch 5/10\n",
      "469/469 [==============================] - 132s 281ms/step - loss: 0.0090 - accuracy: 0.9984\n",
      "Epoch 6/10\n",
      "469/469 [==============================] - 132s 281ms/step - loss: 0.0075 - accuracy: 0.9985\n",
      "Epoch 7/10\n",
      "469/469 [==============================] - 132s 282ms/step - loss: 0.0061 - accuracy: 0.9989\n",
      "Epoch 8/10\n",
      "469/469 [==============================] - 131s 280ms/step - loss: 0.0055 - accuracy: 0.9989\n",
      "Epoch 9/10\n",
      "469/469 [==============================] - 131s 280ms/step - loss: 0.0057 - accuracy: 0.9987\n",
      "Epoch 10/10\n",
      "469/469 [==============================] - 132s 282ms/step - loss: 0.0046 - accuracy: 0.9991\n",
      "235/235 [==============================] - 16s 67ms/step\n",
      "[CV] END batch_size=32, epochs=10, model__dropout_rate=0.2, model__optimizer=rmsprop; total time=22.3min\n",
      "Epoch 1/10\n",
      "703/703 [==============================] - 200s 283ms/step - loss: 0.2145 - accuracy: 0.9142\n",
      "Epoch 2/10\n",
      "703/703 [==============================] - 198s 281ms/step - loss: 0.0511 - accuracy: 0.9839\n",
      "Epoch 3/10\n",
      "703/703 [==============================] - 200s 285ms/step - loss: 0.0177 - accuracy: 0.9954\n",
      "Epoch 4/10\n",
      "703/703 [==============================] - 189s 269ms/step - loss: 0.0089 - accuracy: 0.9978\n",
      "Epoch 5/10\n",
      "703/703 [==============================] - 183s 261ms/step - loss: 0.0046 - accuracy: 0.9988\n",
      "Epoch 6/10\n",
      "703/703 [==============================] - 180s 256ms/step - loss: 0.0036 - accuracy: 0.9992\n",
      "Epoch 7/10\n",
      "703/703 [==============================] - 181s 257ms/step - loss: 0.0036 - accuracy: 0.9992\n",
      "Epoch 8/10\n",
      "703/703 [==============================] - 178s 253ms/step - loss: 0.0043 - accuracy: 0.9992\n",
      "Epoch 9/10\n",
      "703/703 [==============================] - 178s 254ms/step - loss: 0.0027 - accuracy: 0.9994\n",
      "Epoch 10/10\n",
      "703/703 [==============================] - 177s 252ms/step - loss: 0.0034 - accuracy: 0.9994\n",
      "Best Score from Random Search: 0.9868344694286302\n",
      "Best Params: {'model__optimizer': 'rmsprop', 'model__dropout_rate': 0.2, 'epochs': 10, 'batch_size': 32}\n"
     ]
    }
   ],
   "source": [
    "# Reshape input data for 1D CNN (CNN expects 3D input: samples, timesteps, features)\n",
    "X_train_cnn = np.reshape(X_train.to_numpy(), (X_train.shape[0], X_train.shape[1], 1))\n",
    "X_test_cnn = np.reshape(X_test.to_numpy(), (X_test.shape[0], X_test.shape[1], 1))\n",
    "\n",
    "#  Define the model builder function\n",
    "def build_model(optimizer='adam', dropout_rate=0.3):\n",
    "    model = Sequential([\n",
    "        Input(shape=(X_train.shape[1], 1)),\n",
    "        Conv1D(filters=64, kernel_size=3, activation='relu'),\n",
    "        MaxPooling1D(pool_size=2),\n",
    "        Flatten(),\n",
    "        Dense(64, activation='relu'),\n",
    "        Dropout(dropout_rate),\n",
    "        Dense(1, activation='sigmoid')\n",
    "    ])\n",
    "    model.compile(optimizer=optimizer, loss='binary_crossentropy', metrics=['accuracy'])\n",
    "    return model\n",
    "\n",
    "#  Wrap the model using KerasClassifier\n",
    "model = KerasClassifier(model=build_model, verbose=1)\n",
    "\n",
    "#  Define the hyperparameter space \n",
    "param_dist = {\n",
    "    'batch_size': [16, 32],\n",
    "    'epochs': [5, 10],\n",
    "    'model__optimizer': ['adam', 'rmsprop'],\n",
    "    'model__dropout_rate': [0.2, 0.3]\n",
    "}\n",
    "\n",
    "#  Randomized search: only sample N random combinations\n",
    "random_search = RandomizedSearchCV(\n",
    "    estimator=model,\n",
    "    param_distributions=param_dist,\n",
    "    n_iter=5,  # Try 10 random combinations\n",
    "    scoring='accuracy',\n",
    "    cv=3,\n",
    "    verbose=2,\n",
    "    n_jobs=1,\n",
    "    random_state=42\n",
    ")\n",
    "\n",
    "#  Fit the search\n",
    "random_search_result = random_search.fit(X_train_cnn, y_train)\n",
    "\n",
    "#  Best results\n",
    "print(\"Best Score from Random Search:\", random_search_result.best_score_)\n",
    "print(\"Best Params:\", random_search_result.best_params_)\n"
   ]
  },
  {
   "cell_type": "code",
   "execution_count": null,
   "metadata": {},
   "outputs": [],
   "source": [
    "# Get best model\n",
    "best_model = random_search_result.best_estimator_\n",
    "\n",
    "# Predict probabilities and class labels\n",
    "y_prob = best_model.predict(X_test_cnn)\n",
    "y_pred = (y_prob > 0.5).astype(int)"
   ]
  },
  {
   "cell_type": "code",
   "execution_count": null,
   "metadata": {},
   "outputs": [
    {
     "name": "stdout",
     "output_type": "stream",
     "text": [
      "\n",
      "Accuracy of the best model: 0.9907489770503469\n",
      "\n",
      "Classification Report of the best model:\n",
      "              precision    recall  f1-score   support\n",
      "\n",
      "           0       1.00      0.98      0.99      2818\n",
      "           1       0.98      1.00      0.99      2803\n",
      "\n",
      "    accuracy                           0.99      5621\n",
      "   macro avg       0.99      0.99      0.99      5621\n",
      "weighted avg       0.99      0.99      0.99      5621\n",
      "\n"
     ]
    }
   ],
   "source": [
    "# Accuracy\n",
    "test_accuracy = accuracy_score(y_test, y_pred)\n",
    "print(f\"\\nAccuracy of the best model: {test_accuracy}\")\n",
    "\n",
    "# Classification Report\n",
    "report = classification_report(y_test, y_pred)\n",
    "print(\"\\nClassification Report of the best model:\")\n",
    "print(report)"
   ]
  },
  {
   "cell_type": "code",
   "execution_count": null,
   "metadata": {},
   "outputs": [
    {
     "data": {
      "image/png": "[encoded data removed]",
      "text/plain": [
       "<Figure size 600x400 with 2 Axes>"
      ]
     },
     "metadata": {},
     "output_type": "display_data"
    }
   ],
   "source": [
    "# Confusion Matrix\n",
    "cm = confusion_matrix(y_test, y_pred)\n",
    "plt.figure(figsize=(6, 4))\n",
    "sns.heatmap(cm, annot=True, fmt='d', cmap='Blues',\n",
    "            xticklabels=['Pred 0', 'Pred 1'],\n",
    "            yticklabels=['True 0', 'True 1'])\n",
    "plt.title(\"Confusion Matrix\")\n",
    "plt.xlabel(\"Predicted Label\")\n",
    "plt.ylabel(\"True Label\")\n",
    "plt.tight_layout()\n",
    "plt.show()"
   ]
  },
  {
   "cell_type": "code",
   "execution_count": null,
   "metadata": {},
   "outputs": [
    {
     "name": "stdout",
     "output_type": "stream",
     "text": [
      "ROC AUC Score: 0.9989\n"
     ]
    },
    {
     "data": {
      "image/png": "[encoded data removed]",
      "text/plain": [
       "<Figure size 600x400 with 1 Axes>"
      ]
     },
     "metadata": {},
     "output_type": "display_data"
    }
   ],
   "source": [
    "# ROC Curve & AUC\n",
    "fpr, tpr, _ = roc_curve(y_test, y_prob)\n",
    "roc_auc = auc(fpr, tpr)\n",
    "print(f\"ROC AUC Score: {roc_auc:.4f}\")\n",
    "\n",
    "plt.figure(figsize=(6, 4))\n",
    "plt.plot(fpr, tpr, label=f\"AUC = {roc_auc:.2f}\", color='darkorange')\n",
    "plt.plot([0, 1], [0, 1], linestyle='--', color='gray')\n",
    "plt.title(\"ROC Curve\")\n",
    "plt.xlabel(\"False Positive Rate\")\n",
    "plt.ylabel(\"True Positive Rate\")\n",
    "plt.legend(loc=\"lower right\")\n",
    "plt.grid(True)\n",
    "plt.tight_layout()\n",
    "plt.show()"
   ]
  }
 ],
 "metadata": {
  "kernelspec": {
   "display_name": "Python 3",
   "language": "python",
   "name": "python3"
  },
  "language_info": {
   "codemirror_mode": {
    "name": "ipython",
    "version": 3
   },
   "file_extension": ".py",
   "mimetype": "text/x-python",
   "name": "python",
   "nbconvert_exporter": "python",
   "pygments_lexer": "ipython3",
   "version": "3.12.7"
  }
 },
 "nbformat": 4,
 "nbformat_minor": 2
}
